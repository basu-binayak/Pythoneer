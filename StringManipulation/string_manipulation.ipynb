{
 "cells": [
  {
   "cell_type": "markdown",
   "metadata": {},
   "source": [
    "# Manipulating Strings in Python\n",
    "\n",
    "In this notebook, I will discuss the methods available in python to manipulate strings. Rememeber, that all these methods do not change the original string, rather they return new ones."
   ]
  },
  {
   "cell_type": "markdown",
   "metadata": {},
   "source": [
    "## `capitalize()` \n",
    "The `capitalize()` method returns a string where the first character is upper case, and the rest is lower case."
   ]
  },
  {
   "cell_type": "code",
   "execution_count": 1,
   "metadata": {},
   "outputs": [
    {
     "name": "stdout",
     "output_type": "stream",
     "text": [
      "As long as we have faith in our own cause and an unconquerable will to win, victory winn not be denied us - the monk who sold ferrari (robin sharma)\n"
     ]
    }
   ],
   "source": [
    "string = \"as long as we have faith in our own cause and an unconquerable will to win, victory winn not be denied us - The Monk Who Sold Ferrari (Robin Sharma)\"\n",
    "\n",
    "string_capitalize = string.capitalize()\n",
    "\n",
    "print(string_capitalize)"
   ]
  },
  {
   "cell_type": "markdown",
   "metadata": {},
   "source": [
    "## `casefold()` v/s `lower()`\n",
    "\n",
    "The `casefold()` method returns a string where all the characters are lower case.\n",
    "\n",
    "This method is similar to the `lower()` method, but the `casefold()` method is stronger, more aggressive, meaning that it will convert more characters into lower case, and will find more matches when comparing two strings and both are converted using the `casefold()` method."
   ]
  },
  {
   "cell_type": "code",
   "execution_count": 2,
   "metadata": {},
   "outputs": [
    {
     "name": "stdout",
     "output_type": "stream",
     "text": [
      "he collapsed right in the middle of a packed courtroom\n"
     ]
    }
   ],
   "source": [
    "string = \"He collapsed right in The middle of a packed COURTROOM\"\n",
    "\n",
    "string_casefold = string.casefold()\n",
    "print(string_casefold)"
   ]
  },
  {
   "cell_type": "markdown",
   "metadata": {},
   "source": [
    "Let us, in this context, also see the `lower()` function "
   ]
  },
  {
   "cell_type": "code",
   "execution_count": 3,
   "metadata": {},
   "outputs": [
    {
     "name": "stdout",
     "output_type": "stream",
     "text": [
      "he collapsed right in the middle of a packed courtroom\n"
     ]
    }
   ],
   "source": [
    "string = \"He collapsed right in The middle of a packed COURTROOM\"\n",
    "\n",
    "string_lower = string.lower()\n",
    "print(string_lower)"
   ]
  },
  {
   "cell_type": "markdown",
   "metadata": {},
   "source": [
    "## `center()`\n",
    "\n",
    "The `center()` method will center align the string, using a specified character (space is default) as the fill character."
   ]
  },
  {
   "cell_type": "code",
   "execution_count": null,
   "metadata": {},
   "outputs": [
    {
     "name": "stdout",
     "output_type": "stream",
     "text": [
      "******Ferrari*******\n"
     ]
    }
   ],
   "source": [
    "string = \"Ferrari\"\n",
    "\n",
    "string_centered = string.center(20, '*') # here * is the fill character and the total width is 20 for the string \n",
    "print(string_centered)"
   ]
  },
  {
   "cell_type": "markdown",
   "metadata": {},
   "source": [
    "## `count()`\n",
    "\n",
    "The count() method returns the number of times a specified value appears in the string.\n"
   ]
  },
  {
   "cell_type": "code",
   "execution_count": null,
   "metadata": {},
   "outputs": [
    {
     "name": "stdout",
     "output_type": "stream",
     "text": [
      "2\n"
     ]
    }
   ],
   "source": [
    "string = \"I love to eat apples and this love for apples once landed me in a spot of bother!\"\n",
    "\n",
    "love_count = string.count('love', 0, len(string)) # the start and the end can be changed according to the need!\n",
    "print(love_count)"
   ]
  },
  {
   "cell_type": "markdown",
   "metadata": {},
   "source": [
    "## `endswith()` and `startswith()`\n",
    "\n",
    "The `endswith()` method returns True if the string ends with the specified value, otherwise False. Note, it also has an optional `start` and `end`parameter. \n",
    "\n",
    "The `startswith()` method returns True if the string starts with the specified value, otherwise False. It also has `start` and `end` as optional parameters. "
   ]
  },
  {
   "cell_type": "code",
   "execution_count": 7,
   "metadata": {},
   "outputs": [
    {
     "name": "stdout",
     "output_type": "stream",
     "text": [
      "True\n",
      "True\n"
     ]
    }
   ],
   "source": [
    "string = \"Everything they did had a purpose!\"\n",
    "\n",
    "string_endswith = string.endswith('se!')\n",
    "print(string_endswith)\n",
    "\n",
    "string_startswith = string.startswith('Ev')\n",
    "print(string_startswith)"
   ]
  },
  {
   "cell_type": "markdown",
   "metadata": {},
   "source": [
    "## `join()`\n",
    "\n",
    "The `join()` method takes all items in an iterable and joins them into one string.\n",
    "\n",
    "A string must be specified as the separator.\n",
    "\n",
    "```python\n",
    "string.join(iterable)\n",
    "```\n"
   ]
  },
  {
   "cell_type": "code",
   "execution_count": 11,
   "metadata": {},
   "outputs": [
    {
     "name": "stdout",
     "output_type": "stream",
     "text": [
      "Hello World! How are you?\n",
      "1-2-3-4-5-6-7-8-9\n"
     ]
    }
   ],
   "source": [
    "string_from_list = ' '.join(['Hello', 'World!','How', 'are', 'you?'])\n",
    "print(string_from_list)\n",
    "\n",
    "string_from_tuple = \"-\".join(('1','2','3','4','5','6','7','8','9'))\n",
    "print(string_from_tuple)"
   ]
  },
  {
   "cell_type": "markdown",
   "metadata": {},
   "source": [
    "## `expandtabs()`\n",
    "\n",
    "The `expandtabs()` method sets the tab size to the specified number of whitespaces."
   ]
  },
  {
   "cell_type": "code",
   "execution_count": 12,
   "metadata": {},
   "outputs": [
    {
     "name": "stdout",
     "output_type": "stream",
     "text": [
      "H\te\tl\tl\to\n",
      "H e l l o\n"
     ]
    }
   ],
   "source": [
    "string_with_tabs = '\\t'.join('Hello')\n",
    "print(string_with_tabs)\n",
    "\n",
    "strind_expandtabs = string_with_tabs.expandtabs(2)\n",
    "print(strind_expandtabs)"
   ]
  },
  {
   "cell_type": "markdown",
   "metadata": {},
   "source": [
    "## `find()` and `index()`\n",
    "\n",
    "The `find()` method finds the first occurrence of the specified value.\n",
    "\n",
    "The `find()` method returns -1 if the value is not found.\n",
    "\n",
    "The `find()` method is almost the same as the `index()` method, the **only difference is that the `index()` method raises an exception if the value is not found.** (See example below)\n",
    "\n",
    "```python\n",
    "string.find(value, start, end)\n",
    "```"
   ]
  },
  {
   "cell_type": "code",
   "execution_count": null,
   "metadata": {},
   "outputs": [],
   "source": []
  }
 ],
 "metadata": {
  "kernelspec": {
   "display_name": "base",
   "language": "python",
   "name": "python3"
  },
  "language_info": {
   "codemirror_mode": {
    "name": "ipython",
    "version": 3
   },
   "file_extension": ".py",
   "mimetype": "text/x-python",
   "name": "python",
   "nbconvert_exporter": "python",
   "pygments_lexer": "ipython3",
   "version": "3.11.7"
  }
 },
 "nbformat": 4,
 "nbformat_minor": 2
}
