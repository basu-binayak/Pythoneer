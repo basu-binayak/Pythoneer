{
 "cells": [
  {
   "cell_type": "markdown",
   "metadata": {},
   "source": [
    "# Manipulating Strings in Python"
   ]
  },
  {
   "cell_type": "markdown",
   "metadata": {},
   "source": [
    "## `capitalize()` \n",
    "The `capitalize()` method returns a string where the first character is upper case, and the rest is lower case."
   ]
  },
  {
   "cell_type": "code",
   "execution_count": 1,
   "metadata": {},
   "outputs": [
    {
     "name": "stdout",
     "output_type": "stream",
     "text": [
      "As long as we have faith in our own cause and an unconquerable will to win, victory winn not be denied us - the monk who sold ferrari (robin sharma)\n"
     ]
    }
   ],
   "source": [
    "string = \"as long as we have faith in our own cause and an unconquerable will to win, victory winn not be denied us - The Monk Who Sold Ferrari (Robin Sharma)\"\n",
    "\n",
    "string_capitalize = string.capitalize()\n",
    "\n",
    "print(string_capitalize)"
   ]
  },
  {
   "cell_type": "markdown",
   "metadata": {},
   "source": [
    "## `casefold()` v/s `lower()`\n",
    "\n",
    "The `casefold()` method returns a string where all the characters are lower case.\n",
    "\n",
    "This method is similar to the `lower()` method, but the `casefold()` method is stronger, more aggressive, meaning that it will convert more characters into lower case, and will find more matches when comparing two strings and both are converted using the `casefold()` method."
   ]
  },
  {
   "cell_type": "code",
   "execution_count": 2,
   "metadata": {},
   "outputs": [
    {
     "name": "stdout",
     "output_type": "stream",
     "text": [
      "he collapsed right in the middle of a packed courtroom\n"
     ]
    }
   ],
   "source": [
    "string = \"He collapsed right in The middle of a packed COURTROOM\"\n",
    "\n",
    "string_casefold = string.casefold()\n",
    "print(string_casefold)"
   ]
  },
  {
   "cell_type": "markdown",
   "metadata": {},
   "source": [
    "Let us, in this context, also see the `lower()` function "
   ]
  },
  {
   "cell_type": "code",
   "execution_count": 3,
   "metadata": {},
   "outputs": [
    {
     "name": "stdout",
     "output_type": "stream",
     "text": [
      "he collapsed right in the middle of a packed courtroom\n"
     ]
    }
   ],
   "source": [
    "string = \"He collapsed right in The middle of a packed COURTROOM\"\n",
    "\n",
    "string_lower = string.lower()\n",
    "print(string_lower)"
   ]
  },
  {
   "cell_type": "markdown",
   "metadata": {},
   "source": [
    "## `center()`\n",
    "\n",
    "The `center()` method will center align the string, using a specified character (space is default) as the fill character."
   ]
  },
  {
   "cell_type": "code",
   "execution_count": null,
   "metadata": {},
   "outputs": [
    {
     "name": "stdout",
     "output_type": "stream",
     "text": [
      "******Ferrari*******\n"
     ]
    }
   ],
   "source": [
    "string = \"Ferrari\"\n",
    "\n",
    "string_centered = string.center(20, '*') # here * is the fill character and the total width is 20 for the string \n",
    "print(string_centered)"
   ]
  },
  {
   "cell_type": "markdown",
   "metadata": {},
   "source": [
    "## `count()`\n",
    "\n",
    "The count() method returns the number of times a specified value appears in the string.\n"
   ]
  },
  {
   "cell_type": "code",
   "execution_count": null,
   "metadata": {},
   "outputs": [],
   "source": []
  }
 ],
 "metadata": {
  "kernelspec": {
   "display_name": "base",
   "language": "python",
   "name": "python3"
  },
  "language_info": {
   "codemirror_mode": {
    "name": "ipython",
    "version": 3
   },
   "file_extension": ".py",
   "mimetype": "text/x-python",
   "name": "python",
   "nbconvert_exporter": "python",
   "pygments_lexer": "ipython3",
   "version": "3.11.7"
  }
 },
 "nbformat": 4,
 "nbformat_minor": 2
}
