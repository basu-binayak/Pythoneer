{
 "cells": [
  {
   "cell_type": "markdown",
   "metadata": {},
   "source": [
    "# Working with variables in Python to manage data\n",
    "\n",
    "## A. Print in Python"
   ]
  },
  {
   "cell_type": "code",
   "execution_count": 2,
   "metadata": {},
   "outputs": [
    {
     "name": "stdout",
     "output_type": "stream",
     "text": [
      "Hey! I have started to learn Python.\n"
     ]
    }
   ],
   "source": [
    "print(\"Hey! I have started to learn Python.\")"
   ]
  },
  {
   "cell_type": "markdown",
   "metadata": {},
   "source": [
    "## B. String Manipulation"
   ]
  },
  {
   "cell_type": "code",
   "execution_count": 4,
   "metadata": {},
   "outputs": [
    {
     "name": "stdout",
     "output_type": "stream",
     "text": [
      "Banana is a fruit\n",
      "Apples are sweet\n",
      "Mangoes are the most delicious among fruits \n"
     ]
    }
   ],
   "source": [
    "# using \\n to go to a new line \n",
    "print(\"Banana is a fruit\\nApples are sweet\\nMangoes are the most delicious among fruits \")"
   ]
  },
  {
   "cell_type": "code",
   "execution_count": null,
   "metadata": {},
   "outputs": [
    {
     "name": "stdout",
     "output_type": "stream",
     "text": [
      "Hello! Binayak Basu\n",
      "Hello! Binayak Basu\n",
      "Hello! Binayak Basu\n"
     ]
    }
   ],
   "source": [
    "# concatenate two strings \n",
    "my_name = \"Binayak Basu\"\n",
    "print(\"Hello!\", my_name) # Hello! Binayak Basu (  note the space in between!)\n",
    "print(\"Hello! \"+ my_name)\n",
    "\n",
    "# use f strings - best method to use \n",
    "print(f\"Hello! {my_name}\")"
   ]
  },
  {
   "cell_type": "markdown",
   "metadata": {},
   "source": [
    "## C. Input function in Python"
   ]
  },
  {
   "cell_type": "code",
   "execution_count": 5,
   "metadata": {},
   "outputs": [
    {
     "name": "stdout",
     "output_type": "stream",
     "text": [
      "Hello! Webster\n"
     ]
    }
   ],
   "source": [
    "# take the name as input and print it\n",
    "user_name = input(\"What is your name?\")\n",
    "print(f\"Hello! {user_name}\")"
   ]
  },
  {
   "cell_type": "markdown",
   "metadata": {},
   "source": [
    "## D. Variables in Python"
   ]
  },
  {
   "cell_type": "code",
   "execution_count": null,
   "metadata": {},
   "outputs": [
    {
     "name": "stdout",
     "output_type": "stream",
     "text": [
      "Hey! My name is Binayak. I am starting to learn Python. \n"
     ]
    }
   ],
   "source": [
    "# variables store values \n",
    "my_name = 'Binayak' # my_name is the vaiable that stores the data \n",
    "\n",
    "print(f\"Hey! My name is {my_name}. I am starting to learn Python.\")"
   ]
  }
 ],
 "metadata": {
  "kernelspec": {
   "display_name": "Python 3",
   "language": "python",
   "name": "python3"
  },
  "language_info": {
   "codemirror_mode": {
    "name": "ipython",
    "version": 3
   },
   "file_extension": ".py",
   "mimetype": "text/x-python",
   "name": "python",
   "nbconvert_exporter": "python",
   "pygments_lexer": "ipython3",
   "version": "3.13.2"
  }
 },
 "nbformat": 4,
 "nbformat_minor": 2
}
