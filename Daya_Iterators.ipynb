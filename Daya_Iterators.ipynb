{
 "cells": [
  {
   "cell_type": "markdown",
   "metadata": {},
   "source": [
    "# Iterators in Python\n",
    "\n",
    "An **iterator** in Python is an object that allows traversal through a sequence (such as lists, tuples, or strings) one element at a time **without exposing the underlying structure**. It follows the **Iterator Protocol**, which consists of two methods:\n",
    "- `__iter__()` → Returns the iterator object itself.\n",
    "- `__next__()` → Returns the next item in the sequence; raises StopIteration when there are no more items.\n"
   ]
  },
  {
   "cell_type": "code",
   "execution_count": 8,
   "metadata": {},
   "outputs": [],
   "source": [
    "my_list = [1, 2, 3]\n",
    "iterator = iter(my_list)  # Get an iterator"
   ]
  },
  {
   "cell_type": "code",
   "execution_count": 9,
   "metadata": {},
   "outputs": [
    {
     "data": {
      "text/plain": [
       "<list_iterator at 0x15e1da69870>"
      ]
     },
     "execution_count": 9,
     "metadata": {},
     "output_type": "execute_result"
    }
   ],
   "source": [
    "iterator"
   ]
  },
  {
   "cell_type": "code",
   "execution_count": 10,
   "metadata": {},
   "outputs": [
    {
     "name": "stdout",
     "output_type": "stream",
     "text": [
      "1\n",
      "2\n",
      "3\n",
      "No more items in the iterator\n"
     ]
    }
   ],
   "source": [
    "# lazy loading \n",
    "\n",
    "try:\n",
    "    print(next(iterator))  # Output: 1 \n",
    "    print(next(iterator))  # Output: 2\n",
    "    print(next(iterator))  # Output: 3\n",
    "    print(next(iterator))  # Raises StopIteration\n",
    "except StopIteration:\n",
    "    print('No more items in the iterator')"
   ]
  },
  {
   "cell_type": "markdown",
   "metadata": {},
   "source": [
    "## Creating my own iterator \n",
    "\n",
    "We can create our own iterator class by implementing `__iter__()` and `__next__()`."
   ]
  },
  {
   "cell_type": "code",
   "execution_count": 11,
   "metadata": {},
   "outputs": [],
   "source": [
    "class EvenNumbers:\n",
    "    '''\n",
    "    Creating an iterator that generates even numbers up to a limit\n",
    "    '''\n",
    "    def __init__(self, limit):\n",
    "        self.limit = limit \n",
    "        self.num = 0\n",
    "    \n",
    "    def __iter__(self):\n",
    "        return self # the iterator object itself \n",
    "    \n",
    "    def __next__(self):\n",
    "        while self.num < self.limit:\n",
    "            result = self.num\n",
    "            self.num+=2\n",
    "            return result\n",
    "        raise StopIteration # Stop when the limit is reached "
   ]
  },
  {
   "cell_type": "code",
   "execution_count": 15,
   "metadata": {},
   "outputs": [
    {
     "data": {
      "text/plain": [
       "<__main__.EvenNumbers at 0x15e1d6df610>"
      ]
     },
     "execution_count": 15,
     "metadata": {},
     "output_type": "execute_result"
    }
   ],
   "source": [
    "evens = EvenNumbers(20)\n",
    "evens"
   ]
  },
  {
   "cell_type": "code",
   "execution_count": 16,
   "metadata": {},
   "outputs": [
    {
     "name": "stdout",
     "output_type": "stream",
     "text": [
      "0\n",
      "2\n",
      "4\n",
      "6\n",
      "8\n",
      "10\n",
      "12\n",
      "14\n",
      "16\n",
      "18\n"
     ]
    }
   ],
   "source": [
    "for num in evens:\n",
    "    print(num)"
   ]
  },
  {
   "cell_type": "code",
   "execution_count": 18,
   "metadata": {},
   "outputs": [
    {
     "name": "stdout",
     "output_type": "stream",
     "text": [
      "0\n",
      "2\n",
      "4\n",
      "6\n",
      "8\n",
      "No more items in the iterator\n"
     ]
    }
   ],
   "source": [
    "evens = EvenNumbers(10)\n",
    "\n",
    "try:\n",
    "    print(next(evens))\n",
    "    print(next(evens))\n",
    "    print(next(evens))\n",
    "    print(next(evens))\n",
    "    print(next(evens))\n",
    "    print(next(evens))\n",
    "    print(next(evens))\n",
    "except StopIteration:\n",
    "    print('No more items in the iterator')"
   ]
  },
  {
   "cell_type": "markdown",
   "metadata": {},
   "source": [
    "## Iterators vs. Iterables\n",
    "- Iterable: An object that can return an iterator (e.g., list, tuple, string). It has the `__iter__()` method.\n",
    "- Iterator: An object that provides elements one at a time using `__next__()`. It implements both `__iter__()` and `__next__()`."
   ]
  },
  {
   "cell_type": "code",
   "execution_count": 20,
   "metadata": {},
   "outputs": [
    {
     "name": "stdout",
     "output_type": "stream",
     "text": [
      "1\n",
      "2\n",
      "3\n"
     ]
    }
   ],
   "source": [
    "numbers = '123'  # List is an iterable\n",
    "iterator = iter(numbers)  # Convert iterable to iterator\n",
    "\n",
    "print(next(iterator))  # Output: 10\n",
    "print(next(iterator))  # Output: 20\n",
    "print(next(iterator))  # Output: 30"
   ]
  }
 ],
 "metadata": {
  "kernelspec": {
   "display_name": "Python 3",
   "language": "python",
   "name": "python3"
  },
  "language_info": {
   "codemirror_mode": {
    "name": "ipython",
    "version": 3
   },
   "file_extension": ".py",
   "mimetype": "text/x-python",
   "name": "python",
   "nbconvert_exporter": "python",
   "pygments_lexer": "ipython3",
   "version": "3.13.2"
  }
 },
 "nbformat": 4,
 "nbformat_minor": 2
}
