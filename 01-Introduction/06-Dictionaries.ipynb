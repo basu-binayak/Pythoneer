{
 "cells": [
  {
   "cell_type": "markdown",
   "id": "d3aa947c",
   "metadata": {},
   "source": [
    "# Dictionaries \n",
    "---\n",
    "\n",
    "## 🧠 What Are **Dictionaries** in Python?\n",
    "\n",
    "A **dictionary** is an **unordered collection** of **key-value pairs**, where:\n",
    "\n",
    "* Keys must be **unique** and **immutable** (like strings, numbers, or tuples).\n",
    "* Values can be **any type** (mutable or immutable).\n",
    "* Syntax: `{ key: value }`\n",
    "\n",
    "### ✅ Example\n",
    "\n",
    "```python\n",
    "student = {\n",
    "    \"name\": \"Alice\",\n",
    "    \"age\": 22,\n",
    "    \"major\": \"Physics\"\n",
    "}\n",
    "```\n",
    "\n",
    "---\n",
    "\n",
    "## ⚙️ Why Use Dictionaries?\n",
    "\n",
    "* Fast lookups by key (`O(1)` average case).\n",
    "* Easy to model real-world mappings: name→value, username→profile, etc.\n",
    "\n",
    "---\n",
    "\n",
    "## 🧰 Dictionary Methods in Python\n",
    "\n",
    "| Method                       | Description                                                               |\n",
    "| ---------------------------- | ------------------------------------------------------------------------- |\n",
    "| `clear()`                    | Removes all items from the dictionary                                     |\n",
    "| `copy()`                     | Returns a shallow copy of the dictionary                                  |\n",
    "| `fromkeys(seq[, v])`         | Creates a new dictionary from keys in `seq` with value `v`                |\n",
    "| `get(key[, default])`        | Returns the value for `key`, or `default` if key is not found             |\n",
    "| `items()`                    | Returns a view object of `(key, value)` pairs                             |\n",
    "| `keys()`                     | Returns a view object of the keys                                         |\n",
    "| `values()`                   | Returns a view object of the values                                       |\n",
    "| `pop(key[, default])`        | Removes specified key and returns its value                               |\n",
    "| `popitem()`                  | Removes and returns the last inserted `(key, value)` pair                 |\n",
    "| `setdefault(key[, default])` | Returns the value of key; inserts it if not present                       |\n",
    "| `update([other])`            | Updates the dictionary with key-value pairs from another dict or iterable |\n",
    "\n",
    "---\n"
   ]
  },
  {
   "cell_type": "code",
   "execution_count": 1,
   "id": "ddb4a507",
   "metadata": {},
   "outputs": [
    {
     "name": "stdout",
     "output_type": "stream",
     "text": [
      "{}\n"
     ]
    }
   ],
   "source": [
    "student = {\"name\": \"Alice\", \"age\": 22}\n",
    "student.clear()\n",
    "print(student)  # Output: {}"
   ]
  },
  {
   "cell_type": "code",
   "execution_count": 5,
   "id": "ca5402ca",
   "metadata": {},
   "outputs": [
    {
     "name": "stdout",
     "output_type": "stream",
     "text": [
      "{'name': 'Alice', 'age': 22}\n",
      "{'name': 'Alice', 'age': 22}\n"
     ]
    }
   ],
   "source": [
    "student = {\"name\": \"Alice\", \"age\": 22}\n",
    "new_student = student.copy() # shallow copy \n",
    "print(new_student)  # Output: {'name': 'Alice', 'age': 22}\n",
    "\n",
    "new_student['name'] = \"Binayak\"\n",
    "print(student) # no change done "
   ]
  },
  {
   "cell_type": "code",
   "execution_count": 6,
   "id": "580faf8e",
   "metadata": {},
   "outputs": [
    {
     "name": "stdout",
     "output_type": "stream",
     "text": [
      "{'name': 'unknown', 'age': 'unknown', 'city': 'unknown'}\n"
     ]
    }
   ],
   "source": [
    "keys = ['name', 'age', 'city']\n",
    "defaults = dict.fromkeys(keys, 'unknown')\n",
    "print(defaults)  # Output: {'name': 'unknown', 'age': 'unknown', 'city': 'unknown'}"
   ]
  },
  {
   "cell_type": "code",
   "execution_count": 7,
   "id": "93ad05d8",
   "metadata": {},
   "outputs": [
    {
     "name": "stdout",
     "output_type": "stream",
     "text": [
      "Alice\n",
      "N/A\n"
     ]
    }
   ],
   "source": [
    "student = {\"name\": \"Alice\", \"age\": 22}\n",
    "print(student.get(\"name\"))        # Output: Alice\n",
    "print(student.get(\"grade\", \"N/A\")) # Output: N/A"
   ]
  },
  {
   "cell_type": "code",
   "execution_count": 8,
   "id": "6298f82c",
   "metadata": {},
   "outputs": [
    {
     "name": "stdout",
     "output_type": "stream",
     "text": [
      "name -> Alice\n",
      "age -> 22\n"
     ]
    }
   ],
   "source": [
    "student = {\"name\": \"Alice\", \"age\": 22}\n",
    "for key, value in student.items():\n",
    "    print(key, \"->\", value)\n",
    "# Output:\n",
    "# name -> Alice\n",
    "# age -> 22\n"
   ]
  },
  {
   "cell_type": "code",
   "execution_count": 9,
   "id": "cf50101b",
   "metadata": {},
   "outputs": [
    {
     "name": "stdout",
     "output_type": "stream",
     "text": [
      "dict_keys(['name', 'age'])\n"
     ]
    }
   ],
   "source": [
    "student = {\"name\": \"Alice\", \"age\": 22}\n",
    "print(student.keys())  # Output: dict_keys(['name', 'age'])\n"
   ]
  },
  {
   "cell_type": "code",
   "execution_count": 10,
   "id": "c71011c0",
   "metadata": {},
   "outputs": [
    {
     "name": "stdout",
     "output_type": "stream",
     "text": [
      "dict_values(['Alice', 22])\n"
     ]
    }
   ],
   "source": [
    "student = {\"name\": \"Alice\", \"age\": 22}\n",
    "print(student.values())  # Output: dict_values(['Alice', 22])\n"
   ]
  },
  {
   "cell_type": "code",
   "execution_count": null,
   "id": "70c3dc05",
   "metadata": {},
   "outputs": [
    {
     "name": "stdout",
     "output_type": "stream",
     "text": [
      "22\n",
      "{'name': 'Alice'}\n"
     ]
    }
   ],
   "source": [
    "student = {\"name\": \"Alice\", \"age\": 22}\n",
    "age = student.pop(\"age\")\n",
    "print(age)       # Output: 22\n",
    "print(student)   # Output: {'name': 'Alice'}"
   ]
  },
  {
   "cell_type": "code",
   "execution_count": 12,
   "id": "37e1be46",
   "metadata": {},
   "outputs": [
    {
     "name": "stdout",
     "output_type": "stream",
     "text": [
      "('age', 22)\n"
     ]
    }
   ],
   "source": [
    "student = {\"name\": \"Alice\", \"age\": 22}\n",
    "last_item = student.popitem()\n",
    "print(last_item)  # Output: ('age', 22) (or the last key-value inserted)"
   ]
  },
  {
   "cell_type": "code",
   "execution_count": null,
   "id": "f54de9fb",
   "metadata": {},
   "outputs": [
    {
     "name": "stdout",
     "output_type": "stream",
     "text": [
      "18\n",
      "{'name': 'Alice', 'age': 18}\n"
     ]
    }
   ],
   "source": [
    "student = {\"name\": \"Alice\"}\n",
    "age = student.setdefault(\"age\", 18)\n",
    "print(age)        # Output: 18\n",
    "print(student)    # Output: {'name': 'Alice', 'age': 18}"
   ]
  },
  {
   "cell_type": "code",
   "execution_count": 14,
   "id": "0d296d3b",
   "metadata": {},
   "outputs": [
    {
     "name": "stdout",
     "output_type": "stream",
     "text": [
      "{'name': 'Alice', 'age': 22, 'city': 'London'}\n"
     ]
    }
   ],
   "source": [
    "student = {\"name\": \"Alice\"}\n",
    "student.update({\"age\": 22, \"city\": \"London\"})\n",
    "print(student)  # Output: {'name': 'Alice', 'age': 22, 'city': 'London'}"
   ]
  },
  {
   "cell_type": "markdown",
   "id": "6482d563",
   "metadata": {},
   "source": [
    "\n",
    "\n",
    "## ⚡ Python Dictionary Performance Insights\n",
    "\n",
    "Dictionaries in Python are implemented using **hash tables**, which give them **very fast access times** — on average **O(1)** for most operations.\n",
    "\n",
    "| Operation                                      | Average Case | Worst Case | Notes                                                                      |\n",
    "| ---------------------------------------------- | ------------ | ---------- | -------------------------------------------------------------------------- |\n",
    "| `dict[key]` (lookup)                           | **O(1)**     | O(n)       | Average is constant time, but worst case happens with **hash collisions**. |\n",
    "| `dict[key] = value` (insertion/update)         | **O(1)**     | O(n)       | Still typically O(1), but resizing hash table takes time.                  |\n",
    "| `del dict[key]`                                | **O(1)**     | O(n)       | Same as insertion — worst case is rare.                                    |\n",
    "| `key in dict`                                  | **O(1)**     | O(n)       | Uses hashing. Very fast for large datasets.                                |\n",
    "| `dict.items()`, `dict.keys()`, `dict.values()` | O(n)         | O(n)       | Returns view objects — iterating over them takes linear time.              |\n",
    "| `copy()`                                       | O(n)         | O(n)       | All items are copied into a new dict.                                      |\n",
    "| `update()`                                     | O(m)         | O(m)       | Adds/overwrites m key-value pairs.                                         |\n",
    "| `pop()` / `popitem()`                          | O(1)         | O(1)       | Pop is very fast unless key is not present.                                |\n",
    "\n",
    "---\n",
    "\n",
    "## ⚙️ Why Is Lookup So Fast?\n",
    "\n",
    "Python dictionaries are based on:\n",
    "\n",
    "* **Hashing**: The key is hashed to an integer (using `__hash__()`).\n",
    "* **Hash Table**: The hash is used to find the **index** where the value is stored.\n",
    "* **Collision Resolution**: If two keys hash to the same index, Python resolves it using **open addressing** (probing nearby slots).\n",
    "\n",
    "---\n",
    "\n",
    "## 🧠 What Can Cause Worst-Case?\n",
    "\n",
    "* **Too many hash collisions**.\n",
    "* A malicious user designing inputs with the same hash values.\n",
    "* **Rehashing** during dictionary resizing (when it grows beyond its capacity).\n",
    "\n",
    "---\n",
    "\n",
    "## 🧪 Real Tip: Use Dictionaries When...\n",
    "\n",
    "✅ You need **fast lookups**, inserts, or deletes\n",
    "\n",
    "✅ You have **uniquely identifiable keys** (like IDs, usernames)\n",
    "\n",
    "✅ You want to **map one value to another** (e.g., `country_code → country_name`)\n",
    "\n",
    "✅ You don’t care about the order — though since Python 3.7, insertion order is preserved\n",
    "\n",
    "---"
   ]
  }
 ],
 "metadata": {
  "kernelspec": {
   "display_name": "Python 3",
   "language": "python",
   "name": "python3"
  },
  "language_info": {
   "codemirror_mode": {
    "name": "ipython",
    "version": 3
   },
   "file_extension": ".py",
   "mimetype": "text/x-python",
   "name": "python",
   "nbconvert_exporter": "python",
   "pygments_lexer": "ipython3",
   "version": "3.13.2"
  }
 },
 "nbformat": 4,
 "nbformat_minor": 5
}
