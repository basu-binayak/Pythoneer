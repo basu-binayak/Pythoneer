{
 "cells": [
  {
   "cell_type": "markdown",
   "id": "d3aa947c",
   "metadata": {},
   "source": [
    "# Dictionaries \n",
    "---\n",
    "\n",
    "## 🧠 What Are **Dictionaries** in Python?\n",
    "\n",
    "A **dictionary** is an **unordered collection** of **key-value pairs**, where:\n",
    "\n",
    "* Keys must be **unique** and **immutable** (like strings, numbers, or tuples).\n",
    "* Values can be **any type** (mutable or immutable).\n",
    "* Syntax: `{ key: value }`\n",
    "\n",
    "### ✅ Example\n",
    "\n",
    "```python\n",
    "student = {\n",
    "    \"name\": \"Alice\",\n",
    "    \"age\": 22,\n",
    "    \"major\": \"Physics\"\n",
    "}\n",
    "```\n",
    "\n",
    "---\n",
    "\n",
    "## ⚙️ Why Use Dictionaries?\n",
    "\n",
    "* Fast lookups by key (`O(1)` average case).\n",
    "* Easy to model real-world mappings: name→value, username→profile, etc.\n",
    "\n",
    "---\n",
    "\n",
    "## 🧰 Dictionary Methods in Python\n",
    "\n",
    "| Method                       | Description                                                               |\n",
    "| ---------------------------- | ------------------------------------------------------------------------- |\n",
    "| `clear()`                    | Removes all items from the dictionary                                     |\n",
    "| `copy()`                     | Returns a shallow copy of the dictionary                                  |\n",
    "| `fromkeys(seq[, v])`         | Creates a new dictionary from keys in `seq` with value `v`                |\n",
    "| `get(key[, default])`        | Returns the value for `key`, or `default` if key is not found             |\n",
    "| `items()`                    | Returns a view object of `(key, value)` pairs                             |\n",
    "| `keys()`                     | Returns a view object of the keys                                         |\n",
    "| `values()`                   | Returns a view object of the values                                       |\n",
    "| `pop(key[, default])`        | Removes specified key and returns its value                               |\n",
    "| `popitem()`                  | Removes and returns the last inserted `(key, value)` pair                 |\n",
    "| `setdefault(key[, default])` | Returns the value of key; inserts it if not present                       |\n",
    "| `update([other])`            | Updates the dictionary with key-value pairs from another dict or iterable |\n",
    "\n",
    "---\n"
   ]
  },
  {
   "cell_type": "markdown",
   "id": "ddb4a507",
   "metadata": {},
   "source": []
  }
 ],
 "metadata": {
  "kernelspec": {
   "display_name": "Python 3",
   "language": "python",
   "name": "python3"
  },
  "language_info": {
   "name": "python",
   "version": "3.13.2"
  }
 },
 "nbformat": 4,
 "nbformat_minor": 5
}
