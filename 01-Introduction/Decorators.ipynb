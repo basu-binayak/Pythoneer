{
 "cells": [
  {
   "cell_type": "markdown",
   "id": "2120804b",
   "metadata": {},
   "source": [
    "# Decorators "
   ]
  },
  {
   "cell_type": "markdown",
   "id": "3baaa097",
   "metadata": {},
   "source": [
    "## 🧩 What Are Decorators in Python?\n",
    "In simple terms:\n",
    "> A decorator is a function that modifies the behavior of another function, without changing its actual code.\n",
    "\n",
    "It’s like wrapping a gift 🎁 — the inside remains the same, but you can change how it looks or behaves from outside.\n",
    "\n",
    "### 🎬 Real-Life Analogy\n",
    "Imagine you run a bakery. You already have a function called `make_cake()`. Now, the customer wants extra chocolate drizzle on top without changing your original cake recipe.\n",
    "\n",
    "You can wrap `make_cake()` inside another function that adds the drizzle.\n",
    "\n",
    ">That’s what a decorator does — it \"wraps\" another function and adds functionality before/after the original function runs.\n",
    "\n"
   ]
  },
  {
   "cell_type": "code",
   "execution_count": 9,
   "id": "22656353",
   "metadata": {},
   "outputs": [
    {
     "name": "stdout",
     "output_type": "stream",
     "text": [
      "Something goes before the original function\n",
      "Say Hello!\n",
      "Something goes after the original function\n"
     ]
    }
   ],
   "source": [
    "def decorator_function(func):\n",
    "    def wrapper_function():\n",
    "        print(\"Something goes before the original function\")\n",
    "        func()\n",
    "        print(\"Something goes after the original function\")\n",
    "    return wrapper_function\n",
    "\n",
    "def say_hello():\n",
    "    print(\"Say Hello!\")\n",
    "    \n",
    "response = decorator_function(say_hello)\n",
    "response()"
   ]
  },
  {
   "cell_type": "code",
   "execution_count": 10,
   "id": "4cb74e7a",
   "metadata": {},
   "outputs": [
    {
     "name": "stdout",
     "output_type": "stream",
     "text": [
      "Something goes before the original function\n",
      "Say Hello!\n",
      "Something goes after the original function\n"
     ]
    }
   ],
   "source": [
    "# using decorators \n",
    "\n",
    "@decorator_function\n",
    "def say_hello():\n",
    "    print(\"Say Hello!\")\n",
    "\n",
    "say_hello()"
   ]
  },
  {
   "cell_type": "markdown",
   "id": "8a46a2cf",
   "metadata": {},
   "source": [
    "### 🧠 Behind the Scenes of `@decorator`\n",
    "\n",
    "Consider this example:\n",
    "\n",
    "```python\n",
    "@decorator_function\n",
    "def say_hello():\n",
    "    print(\"Hello!\")\n",
    "```\n",
    "\n",
    "This is **equivalent to**:\n",
    "\n",
    "```python\n",
    "def say_hello():\n",
    "    print(\"Hello!\")\n",
    "\n",
    "say_hello = decorator_function(say_hello)  # <-- Notice: We're NOT calling say_hello()\n",
    "```\n",
    "\n",
    "✅ **We are NOT doing this:**\n",
    "\n",
    "```python\n",
    "say_hello = decorator_function(say_hello())  # ❌ This would CALL the function and pass its result\n",
    "```\n",
    "\n",
    "📌 Instead:\n",
    "\n",
    "* We’re passing the **function object** `say_hello` (not the result of calling it) to `decorator_function`.\n",
    "* The `decorator_function` returns a **new function** (usually the `wrapper`) that replaces `say_hello`.\n",
    "\n",
    "That’s what makes decorators powerful: they **intercept the function** before it's ever run, and can change what happens when it finally does get called."
   ]
  },
  {
   "cell_type": "markdown",
   "id": "f65f5491",
   "metadata": {},
   "source": [
    "## 🔧 Decorators with Arguments\n",
    "Let’s say your function accepts arguments:"
   ]
  },
  {
   "cell_type": "code",
   "execution_count": 11,
   "id": "78fba4e2",
   "metadata": {},
   "outputs": [
    {
     "name": "stdout",
     "output_type": "stream",
     "text": [
      "Arguments passed: ('Binayak',) {}\n",
      "Hello! Binayak\n"
     ]
    }
   ],
   "source": [
    "def decorator_function(func):\n",
    "    def wrapper(*args, **kwargs):\n",
    "        print(\"Arguments passed:\", args, kwargs)\n",
    "        func(*args, **kwargs)\n",
    "    return wrapper\n",
    "\n",
    "@decorator_function\n",
    "def greet(name):\n",
    "    print(f\"Hello! {name}\")\n",
    "    \n",
    "greet(\"Binayak\")"
   ]
  },
  {
   "cell_type": "markdown",
   "id": "5c445c87",
   "metadata": {},
   "source": [
    "Consider now , that the original function does return a value instead of just printing it! "
   ]
  },
  {
   "cell_type": "code",
   "execution_count": null,
   "id": "54a99c0a",
   "metadata": {},
   "outputs": [
    {
     "name": "stdout",
     "output_type": "stream",
     "text": [
      "Arguments passed: ('Binayak',) {}\n"
     ]
    },
    {
     "data": {
      "text/plain": [
       "'Hello! Binayak'"
      ]
     },
     "execution_count": 12,
     "metadata": {},
     "output_type": "execute_result"
    }
   ],
   "source": [
    "def decorator_function(func):\n",
    "    def wrapper(*args, **kwargs):\n",
    "        print(\"Arguments passed:\", args, kwargs)\n",
    "        return func(*args, **kwargs) # note the change - use return keyword \n",
    "    return wrapper\n",
    "\n",
    "@decorator_function\n",
    "def greet(name):\n",
    "    return f\"Hello! {name}\"\n",
    "    \n",
    "greet(\"Binayak\")"
   ]
  },
  {
   "cell_type": "markdown",
   "id": "ea537620",
   "metadata": {},
   "source": [
    "### ✅ Best Practice\n",
    "\n",
    "> ✅ **Always return the result of `func(*args, **kwargs)` inside a decorator, unless you’re 100% sure the decorated function never returns anything useful.**\n"
   ]
  },
  {
   "cell_type": "code",
   "execution_count": 19,
   "id": "61fc140f",
   "metadata": {},
   "outputs": [
    {
     "name": "stdout",
     "output_type": "stream",
     "text": [
      "Calling the function with: ('Binayak',) {}\n"
     ]
    },
    {
     "data": {
      "text/plain": [
       "'🌟 Welcome, Binayak! 🌟'"
      ]
     },
     "execution_count": 19,
     "metadata": {},
     "output_type": "execute_result"
    }
   ],
   "source": [
    "# Decorator with an inner function \n",
    "def beautify_output(func):\n",
    "    def wrapper(*args, **kwargs):\n",
    "        def add_stars(message):\n",
    "            return f\"🌟 {message} 🌟\"\n",
    "\n",
    "        print(\"Calling the function with:\", args, kwargs)\n",
    "        result = func(*args, **kwargs)\n",
    "        \n",
    "        # inner function used here\n",
    "        return add_stars(result)\n",
    "    return wrapper\n",
    "\n",
    "@beautify_output\n",
    "def welcome_message(name):\n",
    "    return f\"Welcome, {name}!\"\n",
    "\n",
    "welcome_message(\"Binayak\")"
   ]
  },
  {
   "cell_type": "markdown",
   "id": "551f7f5d",
   "metadata": {},
   "source": [
    "## Decorators with Arguments "
   ]
  },
  {
   "cell_type": "code",
   "execution_count": 14,
   "id": "a5610f36",
   "metadata": {},
   "outputs": [
    {
     "name": "stdout",
     "output_type": "stream",
     "text": [
      "Decorator parameter: Binayak\n"
     ]
    },
    {
     "data": {
      "text/plain": [
       "'Hello! Binayak Basu'"
      ]
     },
     "execution_count": 14,
     "metadata": {},
     "output_type": "execute_result"
    }
   ],
   "source": [
    "def outer_decorator(parameter):\n",
    "    def actual_decorator(func):\n",
    "        def wrapper(*args, **kwargs):\n",
    "            print(f\"Decorator parameter: {parameter}\")\n",
    "            return func(*args, **kwargs)\n",
    "        return wrapper\n",
    "    return actual_decorator\n",
    "\n",
    "@outer_decorator(\"Binayak\")\n",
    "def greet(name):\n",
    "    return f\"Hello! {name}\"\n",
    "\n",
    "greet(\"Binayak Basu\")"
   ]
  },
  {
   "cell_type": "code",
   "execution_count": 17,
   "id": "faa6b4d9",
   "metadata": {},
   "outputs": [
    {
     "name": "stdout",
     "output_type": "stream",
     "text": [
      "[INFO] Calling greet with () {'name': 'Binayak'}\n",
      "Hello, Binayak!\n"
     ]
    }
   ],
   "source": [
    "def log(level):\n",
    "    def decorator(func):\n",
    "        def wrapper(*args, **kwargs):\n",
    "            print(f\"[{level}] Calling {func.__name__} with {args} {kwargs}\")\n",
    "            return func(*args, **kwargs)\n",
    "        return wrapper\n",
    "    return decorator\n",
    "\n",
    "@log(\"INFO\")\n",
    "def greet(name):\n",
    "    print(f\"Hello, {name}!\")\n",
    "\n",
    "greet(name=\"Binayak\")"
   ]
  },
  {
   "cell_type": "markdown",
   "id": "2142575d",
   "metadata": {},
   "source": [
    "## Usinf two Decorators \n",
    "\n",
    "```python\n",
    "@decorator_one\n",
    "@decorator_two\n",
    "def my_function():\n",
    "    ...\n",
    "\n",
    "```"
   ]
  },
  {
   "cell_type": "code",
   "execution_count": null,
   "id": "6d18f39b",
   "metadata": {},
   "outputs": [
    {
     "name": "stdout",
     "output_type": "stream",
     "text": [
      "Calling function: wrapper_2\n"
     ]
    },
    {
     "data": {
      "text/plain": [
       "'HELLO, WORLD!'"
      ]
     },
     "execution_count": 22,
     "metadata": {},
     "output_type": "execute_result"
    }
   ],
   "source": [
    "def log_decorator(func):\n",
    "    def wrapper_1(*args, **kwargs):\n",
    "        print(f\"Calling function: {func.__name__}\")\n",
    "        return func(*args, **kwargs)\n",
    "    return wrapper_1\n",
    "\n",
    "def uppercase_decorator(func):\n",
    "    def wrapper_2(*args, **kwargs):\n",
    "        result = func(*args, **kwargs)\n",
    "        return result.upper()\n",
    "    return wrapper_2\n",
    "\n",
    "@log_decorator\n",
    "@uppercase_decorator\n",
    "def say_hello():\n",
    "    return \"hello, world!\"\n",
    "\n",
    "say_hello() # say_hello = log_decorator(uppercase_decorator(say_hello))"
   ]
  },
  {
   "cell_type": "markdown",
   "id": "de977a3e",
   "metadata": {},
   "source": [
    "### 🧠 Best Practice Tip\n",
    "Decorators can stack, but be careful of side effects and the order of wrapping."
   ]
  }
 ],
 "metadata": {
  "kernelspec": {
   "display_name": "Python 3",
   "language": "python",
   "name": "python3"
  },
  "language_info": {
   "codemirror_mode": {
    "name": "ipython",
    "version": 3
   },
   "file_extension": ".py",
   "mimetype": "text/x-python",
   "name": "python",
   "nbconvert_exporter": "python",
   "pygments_lexer": "ipython3",
   "version": "3.13.2"
  }
 },
 "nbformat": 4,
 "nbformat_minor": 5
}
