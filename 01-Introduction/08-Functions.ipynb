{
 "cells": [
  {
   "cell_type": "markdown",
   "metadata": {},
   "source": [
    "# Functions in Python\n",
    "\n",
    "A **function** in Python is a block of reusable code that performs a specific task. It helps in modular programming, code reusability, and better organization."
   ]
  },
  {
   "cell_type": "markdown",
   "metadata": {},
   "source": [
    "## A. Defining and Calling a Function\n",
    "\n",
    "```python\n",
    "def function_name(parameters):\n",
    "    \"\"\"Docstring (Optional): Describes the function\"\"\"\n",
    "    # Function body\n",
    "    return value  # Optional\n",
    " \n",
    "```"
   ]
  },
  {
   "cell_type": "code",
   "execution_count": 1,
   "metadata": {},
   "outputs": [
    {
     "name": "stdout",
     "output_type": "stream",
     "text": [
      "Hello, Alice!\n"
     ]
    }
   ],
   "source": [
    "def greet(name):\n",
    "    \"\"\"Function to greet a person\"\"\"\n",
    "    return f\"Hello, {name}!\"\n",
    "\n",
    "# calling the function\n",
    "print(greet(\"Alice\"))"
   ]
  },
  {
   "cell_type": "markdown",
   "metadata": {},
   "source": [
    "## B. Types of Functions\n",
    "\n",
    "### B1. In-Built Functions\n",
    "Python provides many built-in functions like `print()`, `len()`, `sum()`, `max()`, etc."
   ]
  },
  {
   "cell_type": "code",
   "execution_count": null,
   "metadata": {},
   "outputs": [
    {
     "name": "stdout",
     "output_type": "stream",
     "text": [
      "3\n"
     ]
    }
   ],
   "source": [
    "print(len([1, 2, 3]))  # Output: 3"
   ]
  },
  {
   "cell_type": "markdown",
   "metadata": {},
   "source": [
    "### B2. User Defined Functions"
   ]
  },
  {
   "cell_type": "code",
   "execution_count": 4,
   "metadata": {},
   "outputs": [
    {
     "name": "stdout",
     "output_type": "stream",
     "text": [
      "16\n"
     ]
    }
   ],
   "source": [
    "def square(num):\n",
    "    return num ** 2\n",
    "\n",
    "print(square(4))  # Output: 16"
   ]
  },
  {
   "cell_type": "markdown",
   "metadata": {},
   "source": [
    "### B3. Lambda (Anonymous) Function\n",
    "\n",
    "```python\n",
    "lambda arguments: expression\n",
    "```"
   ]
  },
  {
   "cell_type": "code",
   "execution_count": null,
   "metadata": {},
   "outputs": [
    {
     "name": "stdout",
     "output_type": "stream",
     "text": [
      "<function <lambda> at 0x000001ABD79C1BC0>\n"
     ]
    }
   ],
   "source": [
    "square = lambda x: x**2 # square is the name of the anonymous function\n",
    "print(square(5))"
   ]
  },
  {
   "cell_type": "code",
   "execution_count": null,
   "metadata": {},
   "outputs": [
    {
     "name": "stdout",
     "output_type": "stream",
     "text": [
      "5\n"
     ]
    }
   ],
   "source": [
    "add = lambda x, y: x + y\n",
    "print(add(2, 3))  # Output: 5"
   ]
  },
  {
   "cell_type": "code",
   "execution_count": null,
   "metadata": {},
   "outputs": [
    {
     "data": {
      "text/plain": [
       "[0, 1, 4, 9, 16, 25, 36, 49, 64, 81]"
      ]
     },
     "execution_count": 5,
     "metadata": {},
     "output_type": "execute_result"
    }
   ],
   "source": [
    "# square the numbers from 0 - 9 and store them in a list \n",
    "array_numbers = lambda n : [i**2 for i in range(n)]\n",
    "array_numbers(10)"
   ]
  },
  {
   "cell_type": "markdown",
   "metadata": {},
   "source": [
    "## C. Functional Parameters and Arguments"
   ]
  },
  {
   "cell_type": "code",
   "execution_count": 7,
   "metadata": {},
   "outputs": [
    {
     "name": "stdout",
     "output_type": "stream",
     "text": [
      "5\n",
      "-5\n"
     ]
    }
   ],
   "source": [
    "# Positional Arguments \n",
    "def subtract(a, b):\n",
    "    return a - b\n",
    "\n",
    "print(subtract(10, 5))  # Output: 5\n",
    "print(subtract(5, 10))  # Output: -5\n"
   ]
  },
  {
   "cell_type": "code",
   "execution_count": 8,
   "metadata": {},
   "outputs": [
    {
     "name": "stdout",
     "output_type": "stream",
     "text": [
      "Hello, Guest!\n",
      "Hello, Bob!\n"
     ]
    }
   ],
   "source": [
    "# default arguments \n",
    "def greet(name=\"Guest\"):\n",
    "    return f\"Hello, {name}!\"\n",
    "\n",
    "print(greet())        # Output: Hello, Guest!\n",
    "print(greet(\"Bob\"))   # Output: Hello, Bob!\n"
   ]
  },
  {
   "cell_type": "code",
   "execution_count": null,
   "metadata": {},
   "outputs": [
    {
     "name": "stdout",
     "output_type": "stream",
     "text": [
      "Buddy is a dog.\n",
      "Kitty is a cat.\n"
     ]
    }
   ],
   "source": [
    "# Keyword arguments\n",
    "# Arguments are passed using key-value pairs, making the order irrelevant.\n",
    "def describe_pet(animal, name):\n",
    "    return f\"{name} is a {animal}.\"\n",
    "\n",
    "print(describe_pet(animal=\"dog\", name=\"Buddy\"))\n",
    "print(describe_pet(name=\"Kitty\", animal=\"cat\"))"
   ]
  },
  {
   "cell_type": "code",
   "execution_count": null,
   "metadata": {},
   "outputs": [
    {
     "name": "stdout",
     "output_type": "stream",
     "text": [
      "45\n"
     ]
    }
   ],
   "source": [
    "# Variable-Length Arguments\n",
    "# *args (Non-Keyword Arguments) → Collects multiple arguments as a tuple.\n",
    "\n",
    "def sum_all(*args):\n",
    "    return sum(args)\n",
    "\n",
    "print(sum_all(1,2,3,4,5,6,7,8,9))"
   ]
  },
  {
   "cell_type": "code",
   "execution_count": null,
   "metadata": {},
   "outputs": [
    {
     "name": "stdout",
     "output_type": "stream",
     "text": [
      "name: Alice\n",
      "age: 25\n",
      "city: NY\n"
     ]
    }
   ],
   "source": [
    "#**kwargs (Keyword Arguments) → Collects multiple keyword arguments as a dictionary.\n",
    "def display_info(**kwargs):\n",
    "    for key, value in kwargs.items(): \n",
    "        # kwargs.items() provides us with a list of tuples and each tuple is a key, value pair \n",
    "        print(f\"{key}: {value}\")\n",
    "        \n",
    "display_info(name=\"Alice\", age=25, city=\"NY\")"
   ]
  },
  {
   "cell_type": "markdown",
   "metadata": {},
   "source": [
    "## D. Higher Order Functions \n",
    "\n",
    "A higher-order function is a function that takes **another function as an argument** or **returns a function as a result**. This allows for more flexible and modular code, commonly used in functional programming.\n",
    "\n",
    "### D1. `map()`\n",
    "\n",
    "The `map()` function in Python is used to **apply a function to every item in an iterable (like a list, tuple, etc.)** and return a new map object (which is an iterator).\n",
    "\n",
    "#### 🔧 **Syntax**:\n",
    "```python\n",
    "map(function, iterable)\n",
    "```\n",
    "\n",
    "- `function`: The function you want to apply.\n",
    "- `iterable`: The sequence of elements (like list, tuple) to apply the function to.\n",
    "\n",
    "#### 🧠 Notes:\n",
    "- The result of `map()` must be converted to a list or another container to view it, since it returns a **lazy iterator**.\n",
    "- It's **more memory-efficient** than list comprehensions for large data.\n",
    "\n",
    "---\n"
   ]
  },
  {
   "cell_type": "code",
   "execution_count": 7,
   "metadata": {},
   "outputs": [
    {
     "data": {
      "text/plain": [
       "[0, 1, 8, 27, 64, 125, 216, 343, 512, 729]"
      ]
     },
     "execution_count": 7,
     "metadata": {},
     "output_type": "execute_result"
    }
   ],
   "source": [
    "# define a lambda function that returns the cube of a function \n",
    "cube = lambda x : x**3\n",
    "\n",
    "# let us map this function to a iterable \n",
    "mapped_iter = map(cube, range(10))\n",
    "list(mapped_iter)"
   ]
  },
  {
   "cell_type": "code",
   "execution_count": null,
   "metadata": {},
   "outputs": [
    {
     "name": "stdout",
     "output_type": "stream",
     "text": [
      "['HELLO', 'WORLD']\n"
     ]
    }
   ],
   "source": [
    "words = [\"hello\", \"world\"]\n",
    "\n",
    "upper_words = map(str.upper, words)\n",
    "print(list(upper_words))  # Output: ['HELLO', 'WORLD']"
   ]
  },
  {
   "cell_type": "code",
   "execution_count": null,
   "metadata": {},
   "outputs": [
    {
     "name": "stdout",
     "output_type": "stream",
     "text": [
      "[1, 2, 3]\n"
     ]
    }
   ],
   "source": [
    "data = ['1', '2', '3']\n",
    "ints = list(map(int, data)) # type casting \n",
    "print(ints)  # Output: [1, 2, 3]"
   ]
  },
  {
   "cell_type": "code",
   "execution_count": 30,
   "metadata": {},
   "outputs": [
    {
     "data": {
      "text/plain": [
       "56"
      ]
     },
     "execution_count": 30,
     "metadata": {},
     "output_type": "execute_result"
    }
   ],
   "source": [
    "import random\n",
    "\n",
    "# create a function to generate 100 random integer values from 0 to 1000\n",
    "random_num = lambda x : [random.randint(0,1000)  for _ in range(x)]\n",
    "\n",
    "# write another lamdba function that returns 0 if the number is less than 500 else 1 \n",
    "check_lt500 = lambda n : 0 if n < 500 else 1 \n",
    "\n",
    "# let us now map this function to the iterable anf find the number of integers above 500 \n",
    "numers_gt500 = sum(map(check_lt500, random_num(100)))\n",
    "numers_gt500"
   ]
  },
  {
   "cell_type": "markdown",
   "metadata": {},
   "source": [
    "### Map Multiple Elements\n",
    "\n",
    "```python \n",
    "map(function, iterable1, iterable2, ..., iterableN)\n",
    "```"
   ]
  },
  {
   "cell_type": "code",
   "execution_count": 31,
   "metadata": {},
   "outputs": [
    {
     "data": {
      "text/plain": [
       "[5, 7, 9]"
      ]
     },
     "execution_count": 31,
     "metadata": {},
     "output_type": "execute_result"
    }
   ],
   "source": [
    "a = [1, 2, 3]\n",
    "b = [4, 5, 6]\n",
    "\n",
    "# let's add a and b\n",
    "result = list(map(lambda x,y : x+y , a , b ))\n",
    "result"
   ]
  },
  {
   "cell_type": "code",
   "execution_count": 32,
   "metadata": {},
   "outputs": [
    {
     "name": "stdout",
     "output_type": "stream",
     "text": [
      "['John Doe', 'Jane Smith', 'Alice Brown']\n"
     ]
    }
   ],
   "source": [
    "first_names = ['John', 'Jane', 'Alice']\n",
    "last_names = ['Doe', 'Smith', 'Brown']\n",
    "\n",
    "full_names = map(lambda f, l: f + ' ' + l, first_names, last_names)\n",
    "print(list(full_names))  # Output: ['John Doe', 'Jane Smith', 'Alice Brown']"
   ]
  },
  {
   "cell_type": "markdown",
   "metadata": {},
   "source": [
    "### D2. `filter()`\n",
    "\n",
    "The `filter()` function in Python is used to **filter elements from an iterable** (like a list or tuple) based on a **function that returns `True` or `False`** for each element.\n",
    "\n",
    "---\n",
    "\n",
    "#### 🔧 **Syntax**:\n",
    "```python\n",
    "filter(function, iterable)\n",
    "```\n",
    "\n",
    "- `function`: A function that returns `True` if the element should be included.\n",
    "- `iterable`: The sequence to filter.\n",
    "\n",
    "Returns: a `filter` object (an iterator), which you usually convert to a list or another container.\n",
    "\n",
    "#### 🧠 Comparison:\n",
    "| Feature   | `map()`                              | `filter()`                          |\n",
    "|-----------|--------------------------------------|-------------------------------------|\n",
    "| Purpose   | Transforms each element              | Selects elements based on condition |\n",
    "| Returns   | Transformed iterable (as iterator)   | Filtered iterable (as iterator)     |\n",
    "| Function  | Must return transformed value        | Must return True/False              |\n",
    "\n",
    "---"
   ]
  },
  {
   "cell_type": "code",
   "execution_count": 34,
   "metadata": {},
   "outputs": [
    {
     "data": {
      "text/plain": [
       "[0, 2, 4, 6, 8, 10, 12, 14, 16, 18]"
      ]
     },
     "execution_count": 34,
     "metadata": {},
     "output_type": "execute_result"
    }
   ],
   "source": [
    "# filter even numbers \n",
    "\n",
    "evens = list(filter(\n",
    "    lambda x : x%2 == 0,\n",
    "    range(20)\n",
    "))\n",
    "\n",
    "evens"
   ]
  },
  {
   "cell_type": "code",
   "execution_count": 35,
   "metadata": {},
   "outputs": [
    {
     "name": "stdout",
     "output_type": "stream",
     "text": [
      "['Python', 'Map', 'Filter']\n"
     ]
    }
   ],
   "source": [
    "# With strings: Filter non-empty strings\n",
    "words = ['Python', '', 'Map', '', 'Filter']\n",
    "non_empty = filter(None, words)\n",
    "print(list(non_empty))  # Output: ['Python', 'Map', 'Filter']"
   ]
  },
  {
   "cell_type": "code",
   "execution_count": null,
   "metadata": {},
   "outputs": [
    {
     "name": "stdout",
     "output_type": "stream",
     "text": [
      "[67, 89, 99]\n"
     ]
    }
   ],
   "source": [
    "# using named functions and multiple conditions \n",
    "def valid_score(score):\n",
    "    return score >= 50 and score <= 100\n",
    "\n",
    "scores = [45, 67, 89, 102, 38, 99]\n",
    "filtered_scores = filter(valid_score, scores)\n",
    "print(list(filtered_scores))  # Output: [67, 89, 99]"
   ]
  },
  {
   "cell_type": "code",
   "execution_count": 46,
   "metadata": {},
   "outputs": [
    {
     "name": "stdout",
     "output_type": "stream",
     "text": [
      "['Apple', 'Buzz', 'Amazing', 'Jazz']\n"
     ]
    }
   ],
   "source": [
    "words = ['Apple', 'Buzz', 'Amazing', 'Jazz', 'Banana']\n",
    "\n",
    "filtered = filter(lambda w: w.startswith('A') or w.endswith('z'), words)\n",
    "print(list(filtered))  # Output: ['Apple', 'Buzz', 'Amazing', 'Jazz']"
   ]
  },
  {
   "cell_type": "markdown",
   "metadata": {},
   "source": [
    "#### Combine `filter()` with `map()`"
   ]
  },
  {
   "cell_type": "code",
   "execution_count": 47,
   "metadata": {},
   "outputs": [
    {
     "name": "stdout",
     "output_type": "stream",
     "text": [
      "[36, 64, 100]\n"
     ]
    }
   ],
   "source": [
    "nums = [1, 2, 3, 4, 5, 6, 7, 8, 9, 10]\n",
    "\n",
    "# Square only even numbers greater than 5\n",
    "filtered = filter(lambda x: x % 2 == 0 and x > 5, nums)\n",
    "squared = map(lambda x: x**2, filtered)\n",
    "\n",
    "print(list(squared))  # Output: [36, 64, 100]"
   ]
  },
  {
   "cell_type": "markdown",
   "metadata": {},
   "source": [
    "### D3. `reduce()`\n",
    "\n",
    "The `reduce()` function in Python is a **higher-order function** that **reduces a sequence of elements into a single value** by repeatedly applying a **binary function** (i.e., a function that takes two arguments).\n",
    "\n",
    "It’s like saying:  \n",
    "**\"Take the first two elements, apply the function, then take the result and apply it with the next element, and so on.\"**\n",
    "\n",
    "---\n",
    "\n",
    "### 🧠 **Syntax**\n",
    "```python\n",
    "from functools import reduce\n",
    "\n",
    "reduce(function, iterable, [initializer])\n",
    "```\n",
    "\n",
    "- **`function`**: A function that takes two arguments.\n",
    "- **`iterable`**: A sequence (like a list or tuple).\n",
    "- **`initializer`** *(optional)*: A starting value. If provided, it’s used as the first argument.\n",
    "\n",
    "---\n",
    "### 💡 Use Case Summary:\n",
    "\n",
    "| Task                     | Use `reduce()` to...                            |\n",
    "|--------------------------|--------------------------------------------------|\n",
    "| Sum/multiply all items   | Accumulate values into one                      |\n",
    "| Merge strings            | Combine list of strings into one                |\n",
    "| Find max/min/longest     | Compare elements step-by-step                   |\n",
    "| Custom aggregations      | When `sum()` / `max()` aren’t flexible enough   |\n",
    "\n",
    "---\n",
    "\n",
    "While powerful, `reduce()` can be a bit less readable than loops or comprehensions, so use it when it adds clarity or compactness."
   ]
  },
  {
   "cell_type": "code",
   "execution_count": 48,
   "metadata": {},
   "outputs": [
    {
     "data": {
      "text/plain": [
       "45"
      ]
     },
     "execution_count": 48,
     "metadata": {},
     "output_type": "execute_result"
    }
   ],
   "source": [
    "from functools import reduce\n",
    "\n",
    "# sum things up\n",
    "reduce(lambda x,y : x + y, range(10))"
   ]
  },
  {
   "cell_type": "code",
   "execution_count": 49,
   "metadata": {},
   "outputs": [
    {
     "data": {
      "text/plain": [
       "'pineapple'"
      ]
     },
     "execution_count": 49,
     "metadata": {},
     "output_type": "execute_result"
    }
   ],
   "source": [
    "# say I want to find the longest word \n",
    "words = ['apple', 'elephant', 'peanut', 'pineapple']\n",
    "\n",
    "reduce(lambda x,y : x if len(x)>len(y) else y, words)"
   ]
  },
  {
   "cell_type": "markdown",
   "metadata": {},
   "source": [
    "In `reduce()`, the function must take two arguments, because it:\n",
    "\n",
    "1. Starts with the first two elements of the iterable (or the initializer and the first element),\n",
    "2. Applies the function to them,\n",
    "3. Then feeds the result back with the next element,\n",
    "4. Repeats this until the list is \"reduced\" to a single value."
   ]
  },
  {
   "cell_type": "code",
   "execution_count": 50,
   "metadata": {},
   "outputs": [
    {
     "name": "stdout",
     "output_type": "stream",
     "text": [
      "16\n"
     ]
    }
   ],
   "source": [
    "# using an initializer \n",
    "numbers = [1, 2, 3]\n",
    "total = reduce(lambda x, y: x + y, numbers, 10)\n",
    "print(total)  # Output: 16 — (10 + 1 + 2 + 3)"
   ]
  },
  {
   "cell_type": "markdown",
   "metadata": {},
   "source": [
    "### D4. `sorted()`\n",
    "\n",
    "The `sorted()` function in Python is used to **sort any iterable (like lists, tuples, dictionaries, etc.) and return a new sorted list** — **without modifying the original**.\n",
    "\n",
    "---\n",
    "\n",
    "#### 🧠 **Syntax**\n",
    "```python\n",
    "sorted(iterable, *, key=None, reverse=False)\n",
    "```\n",
    "\n",
    "- **`iterable`**: The sequence to be sorted.\n",
    "- **`key`** (optional): A function that extracts a comparison key from each element (like `len`, `str.lower`, etc.).\n",
    "- **`reverse`** (optional): If `True`, sorts in descending order.\n",
    "\n",
    "#### 🧠 `sorted()` vs `.sort()`\n",
    "\n",
    "| Feature      | `sorted()`              | `.sort()`                    |\n",
    "|--------------|-------------------------|------------------------------|\n",
    "| Returns new  | ✅ Yes                  | ❌ No (modifies in place)    |\n",
    "| Works on all iterables | ✅ Yes        | ❌ Only lists                |\n",
    "| Preferred for | Functional programming | Performance in-place         |\n",
    "\n",
    "---"
   ]
  },
  {
   "cell_type": "code",
   "execution_count": null,
   "metadata": {},
   "outputs": [
    {
     "name": "stdout",
     "output_type": "stream",
     "text": [
      "[1, 2, 4, 5]\n"
     ]
    }
   ],
   "source": [
    "nums = [4, 1, 5, 2]\n",
    "sorted_nums = sorted(nums)\n",
    "print(sorted_nums)  # [1, 2, 4, 5]"
   ]
  },
  {
   "cell_type": "code",
   "execution_count": 52,
   "metadata": {},
   "outputs": [
    {
     "name": "stdout",
     "output_type": "stream",
     "text": [
      "[5, 4, 2, 1]\n"
     ]
    }
   ],
   "source": [
    "nums = [4, 1, 5, 2]\n",
    "print(sorted(nums, reverse=True))  # [5, 4, 2, 1]"
   ]
  },
  {
   "cell_type": "code",
   "execution_count": 53,
   "metadata": {},
   "outputs": [
    {
     "name": "stdout",
     "output_type": "stream",
     "text": [
      "['Bob', 'David', 'alice']\n"
     ]
    }
   ],
   "source": [
    "# sort strings alphabetically \n",
    "names = ['Bob', 'alice', 'David']\n",
    "print(sorted(names))  # ['Bob', 'David', 'alice']"
   ]
  },
  {
   "cell_type": "markdown",
   "metadata": {},
   "source": [
    "Notice 'alice' comes after capitalized names because uppercase < lowercase in ASCII."
   ]
  },
  {
   "cell_type": "code",
   "execution_count": 54,
   "metadata": {},
   "outputs": [
    {
     "name": "stdout",
     "output_type": "stream",
     "text": [
      "['alice', 'Bob', 'David']\n"
     ]
    }
   ],
   "source": [
    "# sort strings irrespective of case \n",
    "names = ['Bob', 'alice', 'David']\n",
    "print(sorted(names, key=str.lower))"
   ]
  },
  {
   "cell_type": "code",
   "execution_count": 55,
   "metadata": {},
   "outputs": [
    {
     "name": "stdout",
     "output_type": "stream",
     "text": [
      "['bat', 'apple', 'banana']\n"
     ]
    }
   ],
   "source": [
    "# sort by length\n",
    "words = ['apple', 'bat', 'banana']\n",
    "print(sorted(words, key=len))  # ['bat', 'apple', 'banana']"
   ]
  },
  {
   "cell_type": "code",
   "execution_count": 67,
   "metadata": {},
   "outputs": [
    {
     "name": "stdout",
     "output_type": "stream",
     "text": [
      "[('b', 1), ('c', 2), ('a', 3)]\n"
     ]
    }
   ],
   "source": [
    "# sort list of tuples(y second value )\n",
    "items = [('a', 3), ('b', 1), ('c', 2)]\n",
    "print(sorted(items, key=lambda x: x[1]))  # [('b', 1), ('c', 2), ('a', 3)]"
   ]
  },
  {
   "cell_type": "code",
   "execution_count": 68,
   "metadata": {},
   "outputs": [
    {
     "name": "stdout",
     "output_type": "stream",
     "text": [
      "[('Ram', 1), ('Mohan', 2), ('Alice', 3), ('Jofra', 4)]\n"
     ]
    }
   ],
   "source": [
    "# sort a dictionary\n",
    "d = {\n",
    "    'Mohan':2,\n",
    "    'Alice':3,\n",
    "    'Ram':1,\n",
    "    'Jofra':4\n",
    "}\n",
    "print(sorted(d.items(), key=lambda x: x[1]))"
   ]
  },
  {
   "cell_type": "markdown",
   "metadata": {},
   "source": [
    "### D5. `zip()`\n",
    "\n",
    "The `zip()` function in Python **combines multiple iterables (like lists or tuples) element-wise into tuples**, forming a new iterable of tuples.\n",
    "\n",
    "It’s like zipping up a jacket: the teeth from each side come together — element by element.\n",
    "\n",
    "---\n",
    "\n",
    "### 🧠 **Syntax**\n",
    "```python\n",
    "zip(iterable1, iterable2, ...)\n",
    "```\n",
    "\n",
    "- Returns an **iterator** of tuples, where the *i-th tuple* contains the *i-th element* from each iterable.\n",
    "- Stops when the **shortest iterable** is exhausted.\n",
    "\n",
    "---"
   ]
  },
  {
   "cell_type": "code",
   "execution_count": null,
   "metadata": {},
   "outputs": [
    {
     "name": "stdout",
     "output_type": "stream",
     "text": [
      "[('Alice', 85), ('Bob', 90), ('Charlie', 78)]\n",
      "{'Alice': 85, 'Bob': 90, 'Charlie': 78}\n"
     ]
    }
   ],
   "source": [
    "names = ['Alice', 'Bob', 'Charlie']\n",
    "scores = [85, 90, 78]\n",
    "\n",
    "zipped = zip(names, scores)\n",
    "print(list(zipped))  # [('Alice', 85), ('Bob', 90), ('Charlie', 78)]\n",
    "\n",
    "# let us now convert this to a dictionary \n",
    "zipped = zip(names, scores)\n",
    "print(dict(zipped))"
   ]
  },
  {
   "cell_type": "code",
   "execution_count": 74,
   "metadata": {},
   "outputs": [
    {
     "name": "stdout",
     "output_type": "stream",
     "text": [
      "[(1, 'x', '@'), (2, 'y', '#')]\n"
     ]
    }
   ],
   "source": [
    "# more than 2 iterables \n",
    "a = [1, 2]\n",
    "b = ['x', 'y']\n",
    "c = ['@', '#']\n",
    "\n",
    "print(list(zip(a, b, c)))  # [(1, 'x', '@'), (2, 'y', '#')]\n"
   ]
  },
  {
   "cell_type": "code",
   "execution_count": null,
   "metadata": {},
   "outputs": [
    {
     "name": "stdout",
     "output_type": "stream",
     "text": [
      "[(1, 'a'), (2, 'b')]\n"
     ]
    }
   ],
   "source": [
    "# iterables with unequal lengths \n",
    "a = [1, 2, 3]\n",
    "b = ['a', 'b']\n",
    "\n",
    "print(list(zip(a, b)))  # [(1, 'a'), (2, 'b')] — 3 is ignored"
   ]
  },
  {
   "cell_type": "code",
   "execution_count": 76,
   "metadata": {},
   "outputs": [
    {
     "name": "stdout",
     "output_type": "stream",
     "text": [
      "(1, 2)\n",
      "('a', 'b')\n"
     ]
    }
   ],
   "source": [
    "# unzipping \n",
    "pairs = [(1, 'a'), (2, 'b')]\n",
    "nums, chars = zip(*pairs)\n",
    "\n",
    "print(nums)   # (1, 2)\n",
    "print(chars)  # ('a', 'b')"
   ]
  },
  {
   "cell_type": "markdown",
   "metadata": {},
   "source": [
    "The `*` unpacks the list of tuples into separate arguments for `zip()`."
   ]
  },
  {
   "cell_type": "code",
   "execution_count": null,
   "metadata": {},
   "outputs": [
    {
     "name": "stdout",
     "output_type": "stream",
     "text": [
      "{'name': 'Alice', 'age': 25, 'score': 95}\n"
     ]
    }
   ],
   "source": [
    "# real world example \n",
    "keys = ['name', 'age', 'score']\n",
    "values = ['Alice', 25, 95]\n",
    "\n",
    "d = dict(zip(keys, values))\n",
    "print(d)  # {'name': 'Alice', 'age': 25, 'score': 95}"
   ]
  },
  {
   "cell_type": "markdown",
   "metadata": {},
   "source": [
    "- Tip\n",
    "\n",
    "`zip()` is lazy — it returns an iterator. To use it multiple times, convert it to a list first."
   ]
  },
  {
   "cell_type": "markdown",
   "metadata": {},
   "source": [
    "### D6. `any()` and `all()`\n",
    "\n",
    "#### ✅ `any()`\n",
    "\n",
    "> Returns **`True` if *any* element** in the iterable is `True`.\n",
    "\n",
    "```python\n",
    "any([False, False, True])  # 👉 True\n",
    "any([0, \"\", None])         # 👉 False\n",
    "```\n",
    "\n",
    "**Use case**: \"Is at least one condition met?\"\n",
    "\n",
    "---\n",
    "\n",
    "#### ✅ `all()`\n",
    "\n",
    "> Returns **`True` only if *all* elements** in the iterable are `True`.\n",
    "\n",
    "```python\n",
    "all([True, True, True])    # 👉 True\n",
    "all([True, False, True])   # 👉 False\n",
    "```\n",
    "\n",
    "**Use case**: \"Are all conditions met?\"\n",
    "\n",
    "---\n",
    "\n",
    "#### ⚠️ Truthiness Rules\n",
    "Python considers these values as **falsy**:\n",
    "- `0`, `\"\"`, `[]`, `{}`, `None`, `False`\n",
    "\n",
    "Anything else is **truthy**.\n",
    "\n",
    "#### 🧠 Tip\n",
    "- Both `any()` and `all()` short-circuit:  \n",
    "  They stop evaluating as soon as the result is known.\n",
    "\n",
    "---"
   ]
  },
  {
   "cell_type": "code",
   "execution_count": null,
   "metadata": {},
   "outputs": [
    {
     "name": "stdout",
     "output_type": "stream",
     "text": [
      "True\n"
     ]
    }
   ],
   "source": [
    "scores = [55, 70, 80, 45]\n",
    "print(all(score >= 40 for score in scores))  # 👉 True"
   ]
  },
  {
   "cell_type": "code",
   "execution_count": 79,
   "metadata": {},
   "outputs": [
    {
     "name": "stdout",
     "output_type": "stream",
     "text": [
      "True\n"
     ]
    }
   ],
   "source": [
    "scores = [55, 70, 35, 45]\n",
    "print(any(score < 40 for score in scores))   # 👉 True"
   ]
  }
 ],
 "metadata": {
  "kernelspec": {
   "display_name": "Python 3",
   "language": "python",
   "name": "python3"
  },
  "language_info": {
   "codemirror_mode": {
    "name": "ipython",
    "version": 3
   },
   "file_extension": ".py",
   "mimetype": "text/x-python",
   "name": "python",
   "nbconvert_exporter": "python",
   "pygments_lexer": "ipython3",
   "version": "3.13.2"
  }
 },
 "nbformat": 4,
 "nbformat_minor": 2
}
