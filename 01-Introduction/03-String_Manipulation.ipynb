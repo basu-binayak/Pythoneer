{
 "cells": [
  {
   "cell_type": "markdown",
   "id": "f5cfa690",
   "metadata": {},
   "source": [
    "# String Manipulation\n",
    "---\n",
    "\n",
    "### 🔤 **Basic String Methods**\n",
    "\n",
    "| Method             | Description                                            |\n",
    "| ------------------ | ------------------------------------------------------ |\n",
    "| `str.capitalize()` | Converts the first character to uppercase.             |\n",
    "| `str.casefold()`   | Converts string to lowercase for caseless comparisons. |\n",
    "| `str.lower()`      | Converts all characters to lowercase.                  |\n",
    "| `str.upper()`      | Converts all characters to uppercase.                  |\n",
    "| `str.title()`      | Converts first character of each word to uppercase.    |\n",
    "| `str.swapcase()`   | Swaps case of all characters.                          |\n",
    "\n",
    "---\n",
    "\n",
    "### 🧼 **Trimming and Padding**\n",
    "\n",
    "| Method              | Description                              |\n",
    "| ------------------- | ---------------------------------------- |\n",
    "| `str.strip()`       | Removes leading and trailing whitespace. |\n",
    "| `str.lstrip()`      | Removes leading whitespace.              |\n",
    "| `str.rstrip()`      | Removes trailing whitespace.             |\n",
    "| `str.zfill(width)`  | Pads string with zeros on the left.      |\n",
    "| `str.rjust(width)`  | Right-aligns string with padding.        |\n",
    "| `str.ljust(width)`  | Left-aligns string with padding.         |\n",
    "| `str.center(width)` | Centers string with padding.             |\n",
    "\n",
    "---\n",
    "\n",
    "### 🔍 **Search and Find**\n",
    "\n",
    "| Method                   | Description                                              |\n",
    "| ------------------------ | -------------------------------------------------------- |\n",
    "| `str.find(sub)`          | Returns first index of substring or -1 if not found.     |\n",
    "| `str.rfind(sub)`         | Returns last index of substring or -1 if not found.      |\n",
    "| `str.index(sub)`         | Same as `find()`, but raises `ValueError` if not found.  |\n",
    "| `str.rindex(sub)`        | Same as `rfind()`, but raises `ValueError` if not found. |\n",
    "| `str.count(sub)`         | Counts occurrences of substring.                         |\n",
    "| `str.startswith(prefix)` | Checks if string starts with specified value.            |\n",
    "| `str.endswith(suffix)`   | Checks if string ends with specified value.              |\n",
    "\n",
    "---\n",
    "\n",
    "### 🔄 **Replace and Split**\n",
    "\n",
    "| Method                  | Description                                      |\n",
    "| ----------------------- | ------------------------------------------------ |\n",
    "| `str.replace(old, new)` | Replaces substring with another.                 |\n",
    "| `str.split(sep)`        | Splits string by delimiter.                      |\n",
    "| `str.rsplit(sep)`       | Splits string from the right.                    |\n",
    "| `str.splitlines()`      | Splits string at line breaks.                    |\n",
    "| `str.partition(sep)`    | Splits string into 3 parts: before, sep, after.  |\n",
    "| `str.rpartition(sep)`   | Same as `partition()` but splits from the right. |\n",
    "| `str.join(iterable)`    | Joins elements of iterable into a string.        |\n",
    "\n",
    "---\n",
    "\n",
    "### 🧪 **Check String Content**\n",
    "\n",
    "| Method               | Description                                    |\n",
    "| -------------------- | ---------------------------------------------- |\n",
    "| `str.isalpha()`      | Checks if all characters are alphabetic.       |\n",
    "| `str.isdigit()`      | Checks if all characters are digits.           |\n",
    "| `str.isnumeric()`    | Checks if all characters are numeric.          |\n",
    "| `str.isalnum()`      | Checks if all characters are alphanumeric.     |\n",
    "| `str.isspace()`      | Checks if string contains only whitespace.     |\n",
    "| `str.islower()`      | Checks if all characters are lowercase.        |\n",
    "| `str.isupper()`      | Checks if all characters are uppercase.        |\n",
    "| `str.istitle()`      | Checks if string is in title case.             |\n",
    "| `str.isdecimal()`    | Checks if all characters are decimals.         |\n",
    "| `str.isidentifier()` | Checks if string is a valid Python identifier. |\n",
    "| `str.isascii()`      | Checks if all characters are ASCII.            |\n",
    "| `str.isprintable()`  | Checks if all characters are printable.        |\n",
    "\n",
    "---\n",
    "\n",
    "### 🔣 **Encoding & Formatting**\n",
    "\n",
    "| Method                    | Description                              |\n",
    "| ------------------------- | ---------------------------------------- |\n",
    "| `str.encode(encoding)`    | Encodes string using specified encoding. |\n",
    "| `str.format()`            | Formats string with placeholders.        |\n",
    "| `str.format_map(mapping)` | Formats using a dictionary.              |\n",
    "\n",
    "---\n",
    "\n",
    "### 🧪 **Other Useful Methods**\n",
    "\n",
    "| Method                      | Description                                      |\n",
    "| --------------------------- | ------------------------------------------------ |\n",
    "| `str.maketrans()`           | Creates a translation map for `translate()`.     |\n",
    "| `str.translate(map)`        | Translates characters using a translation table. |\n",
    "| `str.expandtabs(tabsize=8)` | Replaces tabs with spaces.                       |\n",
    "\n",
    "---"
   ]
  },
  {
   "cell_type": "code",
   "execution_count": 2,
   "id": "1a1b08b6",
   "metadata": {},
   "outputs": [
    {
     "name": "stdout",
     "output_type": "stream",
     "text": [
      "Hello world! let's learn python\n",
      "hello world! let's learn python\n",
      "hello world! let's learn python\n",
      "HELLO WORLD! LET'S LEARN PYTHON\n",
      "Hello World! Let'S Learn Python\n",
      "HELLO world! LET'S LEARN PYTHON\n"
     ]
    }
   ],
   "source": [
    "# Basic String Methods\n",
    "text = \"hello WORLD! let's learn python\"\n",
    "\n",
    "print(text.capitalize())   # Capitalizes first letter: \"Hello world\"\n",
    "print(text.casefold())     # Lowercase with more aggressive conversion: \"hello world\"\n",
    "print(text.lower())        # Lowercase: \"hello world\"\n",
    "print(text.upper())        # Uppercase: \"HELLO WORLD\"\n",
    "print(text.title())        # Title case: \"Hello World\"\n",
    "print(text.swapcase())     # Swaps case: \"HELLO world\""
   ]
  },
  {
   "cell_type": "code",
   "execution_count": 3,
   "id": "7334a3be",
   "metadata": {},
   "outputs": [
    {
     "name": "stdout",
     "output_type": "stream",
     "text": [
      "Hello Python!\n",
      "Hello Python!   \n",
      "   Hello Python!\n",
      "00042\n",
      "***42\n",
      "42###\n",
      "---42--\n"
     ]
    }
   ],
   "source": [
    "# Trimming and Padding\n",
    "text = \"   Hello Python!   \"\n",
    "\n",
    "print(text.strip())        # Removes leading and trailing spaces\n",
    "print(text.lstrip())       # Removes leading spaces\n",
    "print(text.rstrip())       # Removes trailing spaces\n",
    "\n",
    "padded = \"42\"\n",
    "print(padded.zfill(5))     # Pads with zeros: \"00042\"\n",
    "print(padded.rjust(5, \"*\"))# Pads right with \"*\": \"***42\"\n",
    "print(padded.ljust(5, \"#\"))# Pads left with \"#\": \"42###\"\n",
    "print(padded.center(7, \"-\"))# Centers with \"-\": \"--42---\"\n"
   ]
  },
  {
   "cell_type": "code",
   "execution_count": null,
   "id": "9f01ddbb",
   "metadata": {},
   "outputs": [
    {
     "name": "stdout",
     "output_type": "stream",
     "text": [
      "2\n",
      "18\n",
      "2\n",
      "18\n",
      "6\n",
      "True\n",
      "True\n"
     ]
    }
   ],
   "source": [
    "# Search and Find\n",
    "text = \"banana banana banana\"\n",
    "\n",
    "print(text.find(\"na\"))     # First index of \"na\": 2. If not found returns -1\n",
    "print(text.rfind(\"na\"))    # Last index of \"na\": 18\n",
    "print(text.index(\"na\"))    # Same as find but raises error if not found\n",
    "print(text.rindex(\"na\"))   # Same as rfind but raises error if not found\n",
    "print(text.count(\"na\"))    # Counts how many times \"na\" appears: 6\n",
    "\n",
    "print(text.startswith(\"ban\")) # True\n",
    "print(text.endswith(\"ana\"))   # True"
   ]
  },
  {
   "cell_type": "code",
   "execution_count": null,
   "id": "704ce271",
   "metadata": {},
   "outputs": [
    {
     "name": "stdout",
     "output_type": "stream",
     "text": [
      "apple,orange,cherry,orange\n",
      "['apple', 'banana', 'cherry', 'banana']\n",
      "['apple,banana,cherry', 'banana']\n",
      "['Hello', 'World', 'Python']\n",
      "('https', '://', 'example.com')\n",
      "('https://example', '.', 'com')\n",
      "This is Python\n"
     ]
    }
   ],
   "source": [
    "# Replace and Split\n",
    "text = \"apple,banana,cherry,banana\"\n",
    "\n",
    "print(text.replace(\"banana\", \"orange\"))  # Replaces banana with orange\n",
    "print(text.split(\",\"))                   # Splits into list: [\"apple\", \"banana\", \"cherry\", \"banana\"]\n",
    "print(text.rsplit(\",\", 1))               # Splits from right once: [\"apple,banana,cherry\", \"banana\"]\n",
    "\n",
    "multiline = \"Hello\\nWorld\\nPython\"\n",
    "print(multiline.splitlines())            # Splits lines: ['Hello', 'World', 'Python']\n",
    "\n",
    "url = \"https://example.com\"\n",
    "print(url.partition(\"://\"))              # Splits into 3 parts: ('https', '://', 'example.com')\n",
    "print(url.rpartition(\".\"))               # Splits from right: ('https://example', '.', 'com')\n",
    "\n",
    "words = [\"This\", \"is\", \"Python\"]\n",
    "print(\" \".join(words))                   # Joins list into string: \"This is Python\""
   ]
  },
  {
   "cell_type": "code",
   "execution_count": 8,
   "id": "6b126457",
   "metadata": {},
   "outputs": [
    {
     "name": "stdout",
     "output_type": "stream",
     "text": [
      "False\n",
      "False\n",
      "True\n",
      "True\n",
      "True\n",
      "True\n",
      "True\n",
      "True\n",
      "True\n",
      "True\n",
      "True\n",
      "False\n"
     ]
    }
   ],
   "source": [
    "# Check String Content\n",
    "text = \"Python3\"\n",
    "\n",
    "print(text.isalpha())     # False (contains a digit)\n",
    "print(text.isdigit())     # False\n",
    "print(\"12345\".isdigit())  # True\n",
    "print(text.isalnum())     # True (alphanumeric)\n",
    "print(\"   \".isspace())    # True (only spaces)\n",
    "print(\"python\".islower()) # True\n",
    "print(\"PYTHON\".isupper()) # True\n",
    "print(\"Hello World\".istitle())  # True\n",
    "print(\"123\".isdecimal())        # True\n",
    "print(\"var_name\".isidentifier())# True\n",
    "print(\"abc\".isascii())          # True\n",
    "print(\"Line1\\n\".isprintable())  # False (newline is not printable)\n"
   ]
  },
  {
   "cell_type": "code",
   "execution_count": 9,
   "id": "4976f4f7",
   "metadata": {},
   "outputs": [
    {
     "name": "stdout",
     "output_type": "stream",
     "text": [
      "b'Python'\n",
      "Hello, Alice!\n",
      "Hi Bob\n"
     ]
    }
   ],
   "source": [
    "# Encoding & Formatting\n",
    "text = \"Python\"\n",
    "\n",
    "encoded = text.encode(\"utf-8\")   # Encodes string to bytes\n",
    "print(encoded)\n",
    "\n",
    "formatted = \"Hello, {}!\".format(\"Alice\")\n",
    "print(formatted)                # \"Hello, Alice!\"\n",
    "\n",
    "data = {\"name\": \"Bob\"}\n",
    "print(\"Hi {name}\".format_map(data))  # \"Hi Bob\""
   ]
  },
  {
   "cell_type": "code",
   "execution_count": 10,
   "id": "bfae140a",
   "metadata": {},
   "outputs": [
    {
     "name": "stdout",
     "output_type": "stream",
     "text": [
      "HellO\n",
      "Python  is  fun\n"
     ]
    }
   ],
   "source": [
    "# Translate and Expand Tabs\n",
    "text = \"hello\"\n",
    "\n",
    "# Replace h->H and o->O using translation table\n",
    "trans_table = str.maketrans({\"h\": \"H\", \"o\": \"O\"})\n",
    "print(text.translate(trans_table))  # \"HellO\"\n",
    "\n",
    "tabbed = \"Python\\tis\\tfun\"\n",
    "print(tabbed.expandtabs(4))         # Replaces tabs with 4 spaces"
   ]
  }
 ],
 "metadata": {
  "kernelspec": {
   "display_name": "Python 3",
   "language": "python",
   "name": "python3"
  },
  "language_info": {
   "codemirror_mode": {
    "name": "ipython",
    "version": 3
   },
   "file_extension": ".py",
   "mimetype": "text/x-python",
   "name": "python",
   "nbconvert_exporter": "python",
   "pygments_lexer": "ipython3",
   "version": "3.13.2"
  }
 },
 "nbformat": 4,
 "nbformat_minor": 5
}
