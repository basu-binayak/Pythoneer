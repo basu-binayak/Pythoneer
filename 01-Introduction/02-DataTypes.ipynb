{
 "cells": [
  {
   "cell_type": "markdown",
   "metadata": {},
   "source": [
    "# Data Types and String Manipulation"
   ]
  },
  {
   "cell_type": "markdown",
   "metadata": {},
   "source": [
    "## A. Data Types"
   ]
  },
  {
   "cell_type": "code",
   "execution_count": 3,
   "metadata": {},
   "outputs": [
    {
     "name": "stdout",
     "output_type": "stream",
     "text": [
      "Hello World\n",
      "The first letter in Hello World is H\n",
      "The last letter in Hello World is d\n",
      "The length of Hello World  is 11\n"
     ]
    }
   ],
   "source": [
    "# string \n",
    "str1 = 'Hello World'\n",
    "print(str1)\n",
    "\n",
    "# subscripting in string \n",
    "print(f'The first letter in {str1} is {str1[0]}')\n",
    "print(f'The last letter in {str1} is {str1[-1]}')\n",
    "\n",
    "# length of the string \n",
    "print(f'The length of {str1}  is {len(str1)}')"
   ]
  },
  {
   "cell_type": "code",
   "execution_count": 4,
   "metadata": {},
   "outputs": [
    {
     "name": "stdout",
     "output_type": "stream",
     "text": [
      "The type of 123.4567 is <class 'float'>\n"
     ]
    }
   ],
   "source": [
    "# float \n",
    "float1 = 123.4567\n",
    "print(f'The type of {float1} is {type(float1)}')"
   ]
  },
  {
   "cell_type": "code",
   "execution_count": 5,
   "metadata": {},
   "outputs": [
    {
     "name": "stdout",
     "output_type": "stream",
     "text": [
      "The type of True is <class 'bool'>\n"
     ]
    }
   ],
   "source": [
    "# boolean \n",
    "boolean = True \n",
    "print(f'The type of {boolean} is {type(boolean)}')"
   ]
  },
  {
   "cell_type": "markdown",
   "metadata": {},
   "source": [
    "## B. Type Conversion"
   ]
  },
  {
   "cell_type": "code",
   "execution_count": 6,
   "metadata": {},
   "outputs": [
    {
     "name": "stdout",
     "output_type": "stream",
     "text": [
      "The type of 167.56 is <class 'float'>\n"
     ]
    }
   ],
   "source": [
    "# convert str to int / float\n",
    "\n",
    "float1 = float(input(\"What is your height? (in cm)\"))\n",
    "print(f'The type of {float1} is {type(float1)}')"
   ]
  },
  {
   "cell_type": "markdown",
   "metadata": {},
   "source": [
    "## C. Mathematical Operations \n",
    "\n",
    "Python supports a variety of **mathematical operations**. Here’s a complete list categorized by type:\n",
    "\n",
    "---\n",
    "\n",
    "### **1. Arithmetic Operators**\n",
    "#### PEMDAS - Parenthesis - Exponents - Multiplication/Division - Addition/Subtraction\n",
    "| Operator | Description | Example | Output |\n",
    "|----------|------------|---------|--------|\n",
    "| `+` | Addition | `5 + 3` | `8` |\n",
    "| `-` | Subtraction | `5 - 3` | `2` |\n",
    "| `*` | Multiplication | `5 * 3` | `15` |\n",
    "| `/` | Division (float) | `5 / 2` | `2.5` |\n",
    "| `//` | Floor Division | `5 // 2` | `2` |\n",
    "| `%` | Modulus (Remainder) | `5 % 2` | `1` |\n",
    "| `**` | Exponentiation | `5 ** 2` | `25` |\n",
    "\n",
    "---\n",
    "\n",
    "### **2. Bitwise Operators** (Work at the binary level)\n",
    "| Operator | Description | Example | Binary Calculation | Output |\n",
    "|----------|------------|---------|--------------------|--------|\n",
    "| `&` | Bitwise AND | `5 & 3` | `0101 & 0011` → `0001` | `1` |\n",
    "| `|` | Bitwise OR | `5 | 3` | `0101 | 0011` → `0111` | `7` |\n",
    "| `^` | Bitwise XOR | `5 ^ 3` | `0101 ^ 0011` → `0110` | `6` |\n",
    "| `~` | Bitwise NOT | `~5` | `~0101` → `1010` (in 2’s complement) | `-6` |\n",
    "| `<<` | Left Shift | `5 << 1` | `0101 << 1` → `1010` | `10` |\n",
    "| `>>` | Right Shift | `5 >> 1` | `0101 >> 1` → `0010` | `2` |\n",
    "\n",
    "---\n",
    "\n",
    "### **3. Comparison (Relational) Operators**\n",
    "| Operator | Description | Example | Output |\n",
    "|----------|------------|---------|--------|\n",
    "| `==` | Equal to | `5 == 3` | `False` |\n",
    "| `!=` | Not equal to | `5 != 3` | `True` |\n",
    "| `>` | Greater than | `5 > 3` | `True` |\n",
    "| `<` | Less than | `5 < 3` | `False` |\n",
    "| `>=` | Greater than or equal to | `5 >= 3` | `True` |\n",
    "| `<=` | Less than or equal to | `5 <= 3` | `False` |\n",
    "\n",
    "---\n",
    "\n",
    "### **4. Logical Operators**\n",
    "| Operator | Description | Example | Output |\n",
    "|----------|------------|---------|--------|\n",
    "| `and` | Logical AND | `True and False` | `False` |\n",
    "| `or` | Logical OR | `True or False` | `True` |\n",
    "| `not` | Logical NOT | `not True` | `False` |\n",
    "\n",
    "---\n",
    "\n",
    "### **5. Math Functions (from `math` module)**\n",
    "Python’s `math` module provides advanced mathematical functions:\n",
    "\n",
    "| Function | Description | Example | Output |\n",
    "|----------|------------|---------|--------|\n",
    "| `math.sqrt(x)` | Square root | `math.sqrt(16)` | `4.0` |\n",
    "| `math.pow(x, y)` | Exponentiation | `math.pow(2, 3)` | `8.0` |\n",
    "| `math.exp(x)` | e^x | `math.exp(2)` | `7.389` |\n",
    "| `math.log(x)` | Natural log | `math.log(10)` | `2.302` |\n",
    "| `math.log(x, base)` | Logarithm with base | `math.log(8, 2)` | `3.0` |\n",
    "| `math.factorial(x)` | Factorial | `math.factorial(5)` | `120` |\n",
    "| `math.gcd(a, b)` | Greatest Common Divisor | `math.gcd(12, 15)` | `3` |\n",
    "| `math.fabs(x)` | Absolute value | `math.fabs(-5.5)` | `5.5` |\n",
    "| `math.ceil(x)` | Round up | `math.ceil(4.3)` | `5` |\n",
    "| `math.floor(x)` | Round down | `math.floor(4.7)` | `4` |\n",
    "| `math.degrees(x)` | Radians to degrees | `math.degrees(math.pi)` | `180.0` |\n",
    "| `math.radians(x)` | Degrees to radians | `math.radians(180)` | `π` |\n",
    "| `math.sin(x)` | Sine | `math.sin(math.radians(30))` | `0.5` |\n",
    "| `math.cos(x)` | Cosine | `math.cos(math.radians(60))` | `0.5` |\n",
    "| `math.tan(x)` | Tangent | `math.tan(math.radians(45))` | `1.0` |\n",
    "\n",
    "---\n",
    "\n",
    "### **6. Random Operations (`random` module)**\n",
    "Python's `random` module provides functions for generating random numbers:\n",
    "\n",
    "| Function | Description | Example |\n",
    "|----------|------------|---------|\n",
    "| `random.random()` | Random float between `0.0` and `1.0` | `random.random()` |\n",
    "| `random.randint(a, b)` | Random integer in range `[a, b]` | `random.randint(1, 10)` |\n",
    "| `random.uniform(a, b)` | Random float in range `[a, b]` | `random.uniform(1.5, 5.5)` |\n",
    "| `random.choice(seq)` | Random element from sequence | `random.choice([1, 2, 3, 4])` |\n",
    "| `random.shuffle(seq)` | Shuffle a list in place | `random.shuffle(my_list)` |\n",
    "\n",
    "---\n",
    "\n",
    "### **7. Complex Number Operations**\n",
    "Python supports complex numbers (`a + bj` format):\n",
    "\n",
    "| Operation | Description | Example | Output |\n",
    "|-----------|------------|---------|--------|\n",
    "| `complex(a, b)` | Create complex number | `complex(3, 4)` | `(3+4j)` |\n",
    "| `.real` | Get real part | `(3+4j).real` | `3.0` |\n",
    "| `.imag` | Get imaginary part | `(3+4j).imag` | `4.0` |\n",
    "| `abs(z)` | Magnitude | `abs(3+4j)` | `5.0` |\n",
    "| `cmath.exp(z)` | e^z | `cmath.exp(1j * cmath.pi)` | `-1+0j` |\n",
    "| `cmath.sin(z)` | Sine of complex number | `cmath.sin(1+1j)` | `1.298+0.634j` |\n",
    "\n",
    "---\n",
    "\n",
    "### **8. Fractions (`fractions` module)**\n",
    "Python provides support for exact rational number calculations:\n",
    "\n",
    "| Operation | Example | Output |\n",
    "|-----------|---------|--------|\n",
    "| `fractions.Fraction(3, 4)` | `Fraction(3, 4)` | `3/4` |\n",
    "| `fractions.Fraction(1.5)` | `Fraction(1.5)` | `3/2` |\n",
    "\n",
    "---\n",
    "\n",
    "### **9. Decimal (`decimal` module)**\n",
    "Used for precise floating-point arithmetic:\n",
    "\n",
    "| Operation | Example | Output |\n",
    "|-----------|---------|--------|\n",
    "| `decimal.Decimal('0.1') + decimal.Decimal('0.2')` | `Decimal('0.3')` | `0.3` |\n"
   ]
  },
  {
   "cell_type": "code",
   "execution_count": 10,
   "metadata": {},
   "outputs": [
    {
     "name": "stdout",
     "output_type": "stream",
     "text": [
      "The result of the integer division is 27 and type is <class 'int'>\n",
      "The result of the division is 27.5 and type is <class 'float'>\n",
      "The result of the modulus is 1 and type is <class 'int'>\n"
     ]
    }
   ],
   "source": [
    "# integer division\n",
    "int_div = 55//2 \n",
    "print(f\"The result of the integer division is {int_div} and type is {type(int_div)}\")\n",
    "\n",
    "# division\n",
    "div = 55/2 \n",
    "print(f\"The result of the division is {div} and type is {type(div)}\")\n",
    "\n",
    "# remainder \n",
    "mod = 55%2 \n",
    "print(f\"The result of the modulus is {mod} and type is {type(mod)}\")\n"
   ]
  },
  {
   "cell_type": "code",
   "execution_count": 11,
   "metadata": {},
   "outputs": [
    {
     "name": "stdout",
     "output_type": "stream",
     "text": [
      "0.30000000000000004\n"
     ]
    }
   ],
   "source": [
    "# precise decimal calculation\n",
    "print(0.1 + 0.2)"
   ]
  },
  {
   "cell_type": "code",
   "execution_count": null,
   "metadata": {},
   "outputs": [
    {
     "name": "stdout",
     "output_type": "stream",
     "text": [
      "0.3\n"
     ]
    }
   ],
   "source": [
    "# the above calculation is not prfect \n",
    "from decimal import  Decimal\n",
    "print(Decimal('0.1')+Decimal('0.2'))"
   ]
  }
 ],
 "metadata": {
  "kernelspec": {
   "display_name": "Python 3",
   "language": "python",
   "name": "python3"
  },
  "language_info": {
   "codemirror_mode": {
    "name": "ipython",
    "version": 3
   },
   "file_extension": ".py",
   "mimetype": "text/x-python",
   "name": "python",
   "nbconvert_exporter": "python",
   "pygments_lexer": "ipython3",
   "version": "3.13.2"
  }
 },
 "nbformat": 4,
 "nbformat_minor": 2
}
