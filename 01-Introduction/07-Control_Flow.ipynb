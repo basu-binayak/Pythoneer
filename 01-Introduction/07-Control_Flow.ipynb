{
 "cells": [
  {
   "cell_type": "markdown",
   "metadata": {},
   "source": [
    "# Control Flow in Python\n",
    "Control flow determines how Python executes statements and decisions in a program. It includes conditional statements, loops, and exception handling."
   ]
  },
  {
   "cell_type": "code",
   "execution_count": 2,
   "metadata": {},
   "outputs": [
    {
     "name": "stdout",
     "output_type": "stream",
     "text": [
      "x is exactly 10\n"
     ]
    }
   ],
   "source": [
    "# if-elif-else\n",
    "x = 10\n",
    "\n",
    "if x > 10:\n",
    "    print(\"x is greater than 10\")\n",
    "elif x == 10:\n",
    "    print(\"x is exactly 10\")\n",
    "else:\n",
    "    print(\"x is less than 10\")"
   ]
  },
  {
   "cell_type": "code",
   "execution_count": 3,
   "metadata": {},
   "outputs": [
    {
     "name": "stdout",
     "output_type": "stream",
     "text": [
      "apple\n",
      "banana\n",
      "cherry\n"
     ]
    }
   ],
   "source": [
    "# loop - for loop \n",
    "\n",
    "fruits = [\"apple\", \"banana\", \"cherry\"]\n",
    "for fruit in fruits:\n",
    "    print(fruit)\n"
   ]
  },
  {
   "cell_type": "code",
   "execution_count": 4,
   "metadata": {},
   "outputs": [
    {
     "name": "stdout",
     "output_type": "stream",
     "text": [
      "There are no fruits in the basket\n"
     ]
    }
   ],
   "source": [
    "# for - else\n",
    "\n",
    "fruits=[]\n",
    "for fruit in fruits:\n",
    "    print(fruit)\n",
    "else:\n",
    "    print('There are no fruits in the basket') "
   ]
  },
  {
   "cell_type": "code",
   "execution_count": 1,
   "metadata": {},
   "outputs": [
    {
     "name": "stdout",
     "output_type": "stream",
     "text": [
      "17 is a prime number\n"
     ]
    }
   ],
   "source": [
    "n = 17\n",
    "\n",
    "for i in range(2, n):\n",
    "    if n % i == 0:\n",
    "        print(f\"{n} is not a prime number\")\n",
    "        break\n",
    "else:\n",
    "    print(f\"{n} is a prime number\")"
   ]
  },
  {
   "cell_type": "markdown",
   "metadata": {},
   "source": [
    "🔍 Explanation:\n",
    "- The loop checks if n is divisible by any number from 2 to n-1.\n",
    "- If it finds a divisor, it breaks — so else doesn't run.\n",
    "- If it doesn’t break (i.e., no divisor found), the else runs → confirming it's a prime."
   ]
  },
  {
   "cell_type": "markdown",
   "metadata": {},
   "source": [
    "## 🧠 What is `for-else` in Python?\n",
    "\n",
    "The `else` block in a `for` loop runs **only if the loop completes normally** — i.e., **without hitting a `break` statement**.\n",
    "\n",
    "## 💡 Key Insight\n",
    "\n",
    "* `for-else` isn't about whether the condition is `True` or `False`.\n",
    "* It’s about whether the `for` loop was **interrupted** by `break`.\n",
    "\n",
    "---\n",
    "\n",
    "## ❗ When to Use `for-else`\n",
    "\n",
    "Use `for-else` when:\n",
    "\n",
    "* You're searching for something and need to act **if it wasn’t found**.\n",
    "* You want clean separation between “search logic” and “not found logic”.\n",
    "\n",
    "---\n",
    "\n",
    "## 📛 Anti-Pattern Warning\n",
    "\n",
    "Some developers find `for-else` confusing and avoid it. If readability suffers, you can rewrite it with a flag:\n",
    "\n",
    "```python\n",
    "found = False\n",
    "for item in items:\n",
    "    if condition:\n",
    "        found = True\n",
    "        break\n",
    "\n",
    "if not found:\n",
    "    # fallback logic\n",
    "```\n",
    "\n",
    "---"
   ]
  },
  {
   "cell_type": "code",
   "execution_count": null,
   "metadata": {},
   "outputs": [
    {
     "name": "stdout",
     "output_type": "stream",
     "text": [
      "Count: 0\n",
      "Count: 1\n",
      "Count: 2\n"
     ]
    }
   ],
   "source": [
    "# while loop - continues until the condition is not false \n",
    "\n",
    "count = 0\n",
    "while count < 3:\n",
    "    print(\"Count:\", count)\n",
    "    count += 1"
   ]
  },
  {
   "cell_type": "markdown",
   "metadata": {},
   "source": [
    "## Loop Control Statements "
   ]
  },
  {
   "cell_type": "code",
   "execution_count": 8,
   "metadata": {},
   "outputs": [
    {
     "name": "stdout",
     "output_type": "stream",
     "text": [
      "0\n",
      "1\n",
      "2\n"
     ]
    }
   ],
   "source": [
    "# break \n",
    "\n",
    "for i in range(5):\n",
    "    if i == 3:\n",
    "        break # breaks the loop here and hence 3 is not printed \n",
    "    print(i)\n",
    "else:\n",
    "    print('This is not executed!')"
   ]
  },
  {
   "cell_type": "code",
   "execution_count": 9,
   "metadata": {},
   "outputs": [
    {
     "name": "stdout",
     "output_type": "stream",
     "text": [
      "0\n",
      "1\n",
      "2\n",
      "4\n"
     ]
    }
   ],
   "source": [
    "# continue \n",
    "\n",
    "for i in range(5):\n",
    "    if i == 3:\n",
    "        continue # Skips the rest of the loop body and moves to the next iteration\n",
    "    print(i)"
   ]
  },
  {
   "cell_type": "markdown",
   "metadata": {},
   "source": [
    "## `match` statement (python 3.10+)"
   ]
  },
  {
   "cell_type": "code",
   "execution_count": 10,
   "metadata": {},
   "outputs": [
    {
     "name": "stdout",
     "output_type": "stream",
     "text": [
      "OK\n"
     ]
    }
   ],
   "source": [
    "# Works like switch-case in other languages.\n",
    "\n",
    "status = 200\n",
    "\n",
    "match status:\n",
    "    case 200:\n",
    "        print('OK')\n",
    "    case 404:\n",
    "        print('Not Found')\n",
    "    case 500:\n",
    "        print('Internal server error')\n",
    "    case _:\n",
    "        print('Unknown status')"
   ]
  },
  {
   "cell_type": "code",
   "execution_count": 11,
   "metadata": {},
   "outputs": [
    {
     "name": "stdout",
     "output_type": "stream",
     "text": [
      "Unknown status\n"
     ]
    }
   ],
   "source": [
    "status = 2000\n",
    "\n",
    "match status:\n",
    "    case 200:\n",
    "        print('OK')\n",
    "    case 404:\n",
    "        print('Not Found')\n",
    "    case 500:\n",
    "        print('Internal server error')\n",
    "    case _:\n",
    "        print('Unknown status')"
   ]
  },
  {
   "cell_type": "markdown",
   "metadata": {},
   "source": [
    "Note: Exception handling will be dealt later!"
   ]
  }
 ],
 "metadata": {
  "kernelspec": {
   "display_name": "Python 3",
   "language": "python",
   "name": "python3"
  },
  "language_info": {
   "codemirror_mode": {
    "name": "ipython",
    "version": 3
   },
   "file_extension": ".py",
   "mimetype": "text/x-python",
   "name": "python",
   "nbconvert_exporter": "python",
   "pygments_lexer": "ipython3",
   "version": "3.13.2"
  }
 },
 "nbformat": 4,
 "nbformat_minor": 2
}
