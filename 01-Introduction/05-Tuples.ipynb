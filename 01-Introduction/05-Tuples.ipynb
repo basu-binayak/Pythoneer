{
 "cells": [
  {
   "cell_type": "markdown",
   "id": "20d97c3d",
   "metadata": {},
   "source": [
    "# Tuples \n",
    "---\n",
    "\n",
    "## 🆚 **Tuple vs List in Python**\n",
    "\n",
    "| Feature             | `List`                               | `Tuple`                          |\n",
    "| ------------------- | ------------------------------------ | -------------------------------- |\n",
    "| **Syntax**          | `[]` — e.g. `[1, 2, 3]`              | `()` — e.g. `(1, 2, 3)`          |\n",
    "| **Mutable**         | ✅ Yes — can change items             | ❌ No — immutable                 |\n",
    "| **Hashable**        | ❌ No — cannot be dictionary keys     | ✅ Yes (if elements are hashable) |\n",
    "| **Methods**         | Many (e.g., `append`, `sort`)        | Very few (`count`, `index`)      |\n",
    "| **Iteration speed** | Slower than tuple                    | Slightly faster (less overhead)  |\n",
    "| **Memory usage**    | More (stores dynamic array metadata) | Less (static structure)          |\n",
    "\n",
    "---\n",
    "\n",
    "## 🔍 **Detailed Differences**\n",
    "\n",
    "### 1. ✅ **Mutability**\n",
    "\n",
    "```python\n",
    "my_list = [1, 2, 3]\n",
    "my_list[0] = 10      # Valid\n",
    "\n",
    "my_tuple = (1, 2, 3)\n",
    "# my_tuple[0] = 10   # ❌ TypeError: 'tuple' object does not support item assignment\n",
    "```\n",
    "\n",
    "* **Lists** can be changed after creation (add/remove/sort).\n",
    "* **Tuples** cannot — they're fixed and read-only.\n",
    "\n",
    "---\n",
    "\n",
    "### 2. ⚙️ **Methods Available**\n",
    "\n",
    "```python\n",
    "dir([])      # 40+ methods (append, pop, reverse, etc.)\n",
    "dir(())      # Only a few methods (count, index)\n",
    "```\n",
    "\n",
    "Lists are more feature-rich because they're built for manipulation. Tuples are more minimal.\n",
    "\n",
    "---\n",
    "\n",
    "### 3. 🧠 **Memory and Performance**\n",
    "\n",
    "* **Lists** use **more memory** because:\n",
    "\n",
    "  * They support dynamic resizing (need extra capacity).\n",
    "  * Store references in an over-allocated memory block.\n",
    "* **Tuples** use **less memory**:\n",
    "\n",
    "  * Fixed size = no over-allocation.\n",
    "  * Ideal for read-only, static data.\n",
    "\n",
    "✅ You can check memory usage with:\n",
    "\n",
    "```python\n",
    "import sys\n",
    "print(sys.getsizeof([1, 2, 3]))    # e.g., 88 bytes\n",
    "print(sys.getsizeof((1, 2, 3)))    # e.g., 72 bytes\n",
    "```\n",
    "\n",
    "⚠️ Output varies with Python version and platform.\n",
    "\n",
    "---\n",
    "\n",
    "### 4. 🔐 **Hashability**\n",
    "\n",
    "* **Tuples** can be used as **dictionary keys** or stored in **sets**, if all their elements are immutable.\n",
    "* **Lists** cannot (they’re mutable).\n",
    "\n",
    "```python\n",
    "my_dict = { (1, 2): \"point\" }  # ✅ tuple as key\n",
    "\n",
    "# my_dict = { [1, 2]: \"point\" }  # ❌ TypeError: unhashable type: 'list'\n",
    "```\n",
    "\n",
    "---\n",
    "\n",
    "## 🧭 **When to Use List vs Tuple**\n",
    "\n",
    "| Use Case                                                  | Choose                             |\n",
    "| --------------------------------------------------------- | ---------------------------------- |\n",
    "| You need to modify the data (add, delete, update)         | **List**                           |\n",
    "| Fixed collection of items (e.g., coordinates, RGB)        | **Tuple**                          |\n",
    "| You want better **performance** and **memory efficiency** | **Tuple**                          |\n",
    "| You need to store data as **dict keys** or in **sets**    | **Tuple**                          |\n",
    "| Large datasets or fast iteration (e.g., in loops)         | **Tuple** (small performance gain) |\n",
    "| Complex operations, sorting, filtering                    | **List** (more methods)            |\n",
    "\n",
    "---\n",
    "\n",
    "## 🧪 Real-World Examples\n",
    "\n",
    "### ✅ Use Tuple:\n",
    "\n",
    "```python\n",
    "# Coordinate points\n",
    "point = (10, 20)\n",
    "\n",
    "# RGB color\n",
    "color = (255, 255, 0)\n",
    "\n",
    "# Dict keys\n",
    "employee_skills = {(\"John\", \"Python\"): \"Expert\"}\n",
    "```\n",
    "\n",
    "### ✅ Use List:\n",
    "\n",
    "```python\n",
    "# Grocery list\n",
    "groceries = [\"milk\", \"eggs\", \"bread\"]\n",
    "\n",
    "# User cart that changes dynamically\n",
    "cart = [\"item1\"]\n",
    "cart.append(\"item2\")\n",
    "```\n",
    "\n",
    "---\n",
    "\n",
    "## ✅ Summary\n",
    "\n",
    "| Criteria         | Use `List`        | Use `Tuple`       |\n",
    "| ---------------- | ----------------- | ----------------- |\n",
    "| Changeable?      | ✅ Yes             | ❌ No              |\n",
    "| Faster?          | ❌ Slightly slower | ✅ Slightly faster |\n",
    "| Memory?          | ❌ More            | ✅ Less            |\n",
    "| Methods?         | ✅ Many            | ❌ Few             |\n",
    "| Dict keys / Set? | ❌ No              | ✅ Yes             |\n",
    "\n",
    "---"
   ]
  },
  {
   "cell_type": "code",
   "execution_count": 1,
   "id": "8f5c264a",
   "metadata": {},
   "outputs": [
    {
     "name": "stdout",
     "output_type": "stream",
     "text": [
      "3\n"
     ]
    }
   ],
   "source": [
    "# 📌 Example: count()\n",
    "my_tuple = (1, 2, 3, 2, 4, 2)\n",
    "print(my_tuple.count(2))  # 🔄 Output: 3 — because 2 appears 3 times"
   ]
  },
  {
   "cell_type": "code",
   "execution_count": null,
   "id": "dcaa19f2",
   "metadata": {},
   "outputs": [
    {
     "name": "stdout",
     "output_type": "stream",
     "text": [
      "1\n"
     ]
    }
   ],
   "source": [
    "# 📌 Example: index()\n",
    "my_tuple = ('a', 'b', 'c', 'b')\n",
    "print(my_tuple.index('b'))  # 🔢 Output: 1 — first occurrence of 'b'"
   ]
  },
  {
   "cell_type": "code",
   "execution_count": 3,
   "id": "24024d0a",
   "metadata": {},
   "outputs": [
    {
     "data": {
      "text/plain": [
       "('a', 'b')"
      ]
     },
     "execution_count": 3,
     "metadata": {},
     "output_type": "execute_result"
    }
   ],
   "source": [
    "# slicing \n",
    "my_tuple[:2]"
   ]
  },
  {
   "cell_type": "code",
   "execution_count": null,
   "id": "d0e2d483",
   "metadata": {},
   "outputs": [
    {
     "name": "stdout",
     "output_type": "stream",
     "text": [
      "4\n",
      "40\n",
      "10\n",
      "100\n",
      "[10, 20, 30, 40]\n"
     ]
    }
   ],
   "source": [
    "# 🧪 Bonus: Use of Built-in Functions with Tuples\n",
    "# Even though tuples have limited methods, you can still use built-in functions:\n",
    "\n",
    "t = (10, 20, 30, 40)\n",
    "\n",
    "print(len(t))       # 🔢 Output: 4\n",
    "print(max(t))       # 📈 Output: 40\n",
    "print(min(t))       # 📉 Output: 10\n",
    "print(sum(t))       # ➕ Output: 100\n",
    "print(sorted(t))    # ✅ Output: [10, 20, 30, 40] — returns a list!"
   ]
  }
 ],
 "metadata": {
  "kernelspec": {
   "display_name": "Python 3",
   "language": "python",
   "name": "python3"
  },
  "language_info": {
   "codemirror_mode": {
    "name": "ipython",
    "version": 3
   },
   "file_extension": ".py",
   "mimetype": "text/x-python",
   "name": "python",
   "nbconvert_exporter": "python",
   "pygments_lexer": "ipython3",
   "version": "3.13.2"
  }
 },
 "nbformat": 4,
 "nbformat_minor": 5
}
