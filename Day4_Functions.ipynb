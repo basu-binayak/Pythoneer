{
 "cells": [
  {
   "cell_type": "markdown",
   "metadata": {},
   "source": [
    "# Functions in Python\n",
    "\n",
    "A **function** in Python is a block of reusable code that performs a specific task. It helps in modular programming, code reusability, and better organization."
   ]
  },
  {
   "cell_type": "markdown",
   "metadata": {},
   "source": [
    "## A. Defining and Calling a Function\n",
    "```python\n",
    "def function_name(parameters):\n",
    "    \"\"\"Docstring (Optional): Describes the function\"\"\"\n",
    "    # Function body\n",
    "    return value  # Optional\n",
    "```"
   ]
  },
  {
   "cell_type": "code",
   "execution_count": 2,
   "metadata": {},
   "outputs": [
    {
     "name": "stdout",
     "output_type": "stream",
     "text": [
      "Hello, Alice!\n"
     ]
    }
   ],
   "source": [
    "def greet(name):\n",
    "    \"\"\"Function to greet a person\"\"\"\n",
    "    return f\"Hello, {name}!\"\n",
    "\n",
    "print(greet(\"Alice\"))\n"
   ]
  },
  {
   "cell_type": "markdown",
   "metadata": {},
   "source": [
    "## B. Types of Functions\n",
    "\n",
    "### B1. In-Built Functions\n",
    "Python provides many built-in functions like `print()`, `len()`, `sum()`, `max()`, etc."
   ]
  },
  {
   "cell_type": "code",
   "execution_count": 3,
   "metadata": {},
   "outputs": [
    {
     "name": "stdout",
     "output_type": "stream",
     "text": [
      "3\n"
     ]
    }
   ],
   "source": [
    "print(len([1, 2, 3]))  # Output: 3\n"
   ]
  },
  {
   "cell_type": "markdown",
   "metadata": {},
   "source": [
    "### B2. User Defined Functions"
   ]
  },
  {
   "cell_type": "code",
   "execution_count": 4,
   "metadata": {},
   "outputs": [
    {
     "name": "stdout",
     "output_type": "stream",
     "text": [
      "16\n"
     ]
    }
   ],
   "source": [
    "def square(num):\n",
    "    return num ** 2\n",
    "\n",
    "print(square(4))  # Output: 16"
   ]
  },
  {
   "cell_type": "markdown",
   "metadata": {},
   "source": [
    "### B3. Lambda (Anonymous) Function\n",
    "\n",
    "```python\n",
    "lambda arguments: expression\n",
    "```"
   ]
  },
  {
   "cell_type": "code",
   "execution_count": 5,
   "metadata": {},
   "outputs": [
    {
     "name": "stdout",
     "output_type": "stream",
     "text": [
      "25\n"
     ]
    }
   ],
   "source": [
    "square = lambda x: x**2\n",
    "print(square(5))"
   ]
  },
  {
   "cell_type": "code",
   "execution_count": null,
   "metadata": {},
   "outputs": [
    {
     "name": "stdout",
     "output_type": "stream",
     "text": [
      "5\n"
     ]
    }
   ],
   "source": [
    "add = lambda x, y: x + y\n",
    "print(add(2, 3))  # Output: 5"
   ]
  },
  {
   "cell_type": "markdown",
   "metadata": {},
   "source": [
    "## C. Functional Parameters and Arguments"
   ]
  },
  {
   "cell_type": "code",
   "execution_count": 7,
   "metadata": {},
   "outputs": [
    {
     "name": "stdout",
     "output_type": "stream",
     "text": [
      "5\n",
      "-5\n"
     ]
    }
   ],
   "source": [
    "# Positional Arguments \n",
    "def subtract(a, b):\n",
    "    return a - b\n",
    "\n",
    "print(subtract(10, 5))  # Output: 5\n",
    "print(subtract(5, 10))  # Output: -5\n"
   ]
  },
  {
   "cell_type": "code",
   "execution_count": 8,
   "metadata": {},
   "outputs": [
    {
     "name": "stdout",
     "output_type": "stream",
     "text": [
      "Hello, Guest!\n",
      "Hello, Bob!\n"
     ]
    }
   ],
   "source": [
    "# default arguments \n",
    "def greet(name=\"Guest\"):\n",
    "    return f\"Hello, {name}!\"\n",
    "\n",
    "print(greet())        # Output: Hello, Guest!\n",
    "print(greet(\"Bob\"))   # Output: Hello, Bob!\n"
   ]
  },
  {
   "cell_type": "code",
   "execution_count": null,
   "metadata": {},
   "outputs": [
    {
     "name": "stdout",
     "output_type": "stream",
     "text": [
      "Buddy is a dog.\n",
      "Kitty is a cat.\n"
     ]
    }
   ],
   "source": [
    "# Keyword arguments\n",
    "# Arguments are passed using key-value pairs, making the order irrelevant.\n",
    "def describe_pet(animal, name):\n",
    "    return f\"{name} is a {animal}.\"\n",
    "\n",
    "print(describe_pet(animal=\"dog\", name=\"Buddy\"))\n",
    "print(describe_pet(name=\"Kitty\", animal=\"cat\"))"
   ]
  },
  {
   "cell_type": "code",
   "execution_count": null,
   "metadata": {},
   "outputs": [
    {
     "name": "stdout",
     "output_type": "stream",
     "text": [
      "45\n"
     ]
    }
   ],
   "source": [
    "# Variable-Length Arguments\n",
    "# *args (Non-Keyword Arguments) → Collects multiple arguments as a tuple.\n",
    "\n",
    "def sum_all(*args):\n",
    "    return sum(args)\n",
    "\n",
    "print(sum_all(1,2,3,4,5,6,7,8,9))"
   ]
  },
  {
   "cell_type": "code",
   "execution_count": 11,
   "metadata": {},
   "outputs": [
    {
     "name": "stdout",
     "output_type": "stream",
     "text": [
      "name: Alice\n",
      "age: 25\n",
      "city: NY\n"
     ]
    }
   ],
   "source": [
    "#**kwargs (Keyword Arguments) → Collects multiple keyword arguments as a dictionary.\n",
    "def display_info(**kwargs):\n",
    "    for key, value in kwargs.items():\n",
    "        print(f\"{key}: {value}\")\n",
    "        \n",
    "display_info(name=\"Alice\", age=25, city=\"NY\")"
   ]
  },
  {
   "cell_type": "markdown",
   "metadata": {},
   "source": [
    "## D. Higher Order Functions \n",
    "\n",
    "A higher-order function is a function that takes **another function as an argument** or **returns a function as a result**. This allows for more flexible and modular code, commonly used in functional programming.\n",
    "\n",
    "### D1. `map()`\n",
    "```python"
   ]
  },
  {
   "cell_type": "code",
   "execution_count": null,
   "metadata": {},
   "outputs": [],
   "source": []
  }
 ],
 "metadata": {
  "kernelspec": {
   "display_name": "Python 3",
   "language": "python",
   "name": "python3"
  },
  "language_info": {
   "codemirror_mode": {
    "name": "ipython",
    "version": 3
   },
   "file_extension": ".py",
   "mimetype": "text/x-python",
   "name": "python",
   "nbconvert_exporter": "python",
   "pygments_lexer": "ipython3",
   "version": "3.13.2"
  }
 },
 "nbformat": 4,
 "nbformat_minor": 2
}
