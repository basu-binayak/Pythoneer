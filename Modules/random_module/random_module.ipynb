{
 "cells": [
  {
   "cell_type": "markdown",
   "metadata": {},
   "source": [
    "# Random Module in Python"
   ]
  },
  {
   "cell_type": "code",
   "execution_count": 1,
   "metadata": {},
   "outputs": [],
   "source": [
    "import random"
   ]
  },
  {
   "cell_type": "markdown",
   "metadata": {},
   "source": [
    "## A. Generating random numbers "
   ]
  },
  {
   "cell_type": "code",
   "execution_count": 3,
   "metadata": {},
   "outputs": [
    {
     "name": "stdout",
     "output_type": "stream",
     "text": [
      "0.5951573604412844\n"
     ]
    }
   ],
   "source": [
    "print(random.random()) # generates a random number between 0 and 1 "
   ]
  },
  {
   "cell_type": "code",
   "execution_count": 5,
   "metadata": {},
   "outputs": [
    {
     "name": "stdout",
     "output_type": "stream",
     "text": [
      "13.733538706158587\n"
     ]
    }
   ],
   "source": [
    "print(random.uniform(10,20)) # generates a random umber between 10 and 20"
   ]
  },
  {
   "cell_type": "markdown",
   "metadata": {},
   "source": [
    "## B. Generating random integers"
   ]
  },
  {
   "cell_type": "code",
   "execution_count": 7,
   "metadata": {},
   "outputs": [
    {
     "name": "stdout",
     "output_type": "stream",
     "text": [
      "17\n"
     ]
    }
   ],
   "source": [
    "print(random.randint(1,100)) # generates a random integer between 1 and 100"
   ]
  },
  {
   "cell_type": "code",
   "execution_count": 23,
   "metadata": {},
   "outputs": [
    {
     "name": "stdout",
     "output_type": "stream",
     "text": [
      "7\n"
     ]
    }
   ],
   "source": [
    "print(random.randrange(1,10,2)) # (start, stop, step) - Random odd number between 1 and 10"
   ]
  },
  {
   "cell_type": "markdown",
   "metadata": {},
   "source": [
    "## C. Working with Sequence"
   ]
  },
  {
   "cell_type": "code",
   "execution_count": null,
   "metadata": {},
   "outputs": [
    {
     "name": "stdout",
     "output_type": "stream",
     "text": [
      "blue\n"
     ]
    }
   ],
   "source": [
    "colors = [\"red\", \"blue\", \"green\", \"yellow\"]\n",
    "print(random.choice(colors)) # picks a random element from the list seq"
   ]
  },
  {
   "cell_type": "code",
   "execution_count": 30,
   "metadata": {},
   "outputs": [
    {
     "name": "stdout",
     "output_type": "stream",
     "text": [
      "['green', 'red', 'green']\n"
     ]
    }
   ],
   "source": [
    "# say i want to choose 2 elements from the colors list with repetition \n",
    "print(random.choices(colors, k=3)) # Pick 2 elements with replacement"
   ]
  },
  {
   "cell_type": "code",
   "execution_count": null,
   "metadata": {},
   "outputs": [
    {
     "name": "stdout",
     "output_type": "stream",
     "text": [
      "['yellow', 'blue', 'green']\n"
     ]
    }
   ],
   "source": [
    "# say, now we want it to be w/o repitition\n",
    "print(random.sample(colors,k=3))"
   ]
  },
  {
   "cell_type": "code",
   "execution_count": 38,
   "metadata": {},
   "outputs": [
    {
     "name": "stdout",
     "output_type": "stream",
     "text": [
      "[2, 7, 9, 4, 1, 8]\n"
     ]
    }
   ],
   "source": [
    "# Shuffle a list in place\n",
    "numbers = [1,2,4,7,8,9]\n",
    "random.shuffle(numbers)\n",
    "print(numbers)"
   ]
  },
  {
   "cell_type": "markdown",
   "metadata": {},
   "source": [
    "## D. Random Boolean & Normal Distribution"
   ]
  },
  {
   "cell_type": "code",
   "execution_count": 40,
   "metadata": {},
   "outputs": [
    {
     "name": "stdout",
     "output_type": "stream",
     "text": [
      "9\n"
     ]
    }
   ],
   "source": [
    "print(random.getrandbits(4))  # Random 4-bit number"
   ]
  },
  {
   "cell_type": "code",
   "execution_count": null,
   "metadata": {},
   "outputs": [
    {
     "name": "stdout",
     "output_type": "stream",
     "text": [
      "0.3148587750863822\n"
     ]
    }
   ],
   "source": [
    "print(random.gauss(0, 1))  # Mean=0, Standard Deviation=1"
   ]
  },
  {
   "cell_type": "code",
   "execution_count": 60,
   "metadata": {},
   "outputs": [
    {
     "name": "stdout",
     "output_type": "stream",
     "text": [
      "[1.178515637362864, -1.1202802538343326, 0.3880961282816361, 1.071703042620628, 1.1266389834001986, -0.062408831152920535, -0.5517892387249832, 0.2618037827954724, -0.4461409682237333, -0.641568480286043, 1.4109562047505104, 0.4479739205542406, 0.40414816687240945, 0.9654596180469741, 0.12313284562525309, -0.5511958265701101, -0.4853210187881918, -0.22001179367464202, -0.8336956009407047, 1.0920841014355722, -0.35888277077456865, 0.48818767312818095, 0.24385847210959508, -1.4501902902538795, 0.45153030863085547, -0.4833126967635746, -0.8133947680233453, -1.4379437671242223, 0.3468976302204752, 0.9862737870793981, -0.16292975634383064, 0.225363368952099, 0.6754639901883258, 1.0959980008579082, -0.5726187968179886, -0.2662718241679483, 1.0681421068538837, 0.9520582644730281, -0.5031462001957726, -0.7963154869420961, -0.6467271291881412, 0.9294166249150703, 0.03348498571320685, -0.3265834598256831, 1.254509311702014, -1.0681168195126567, -2.1692370729012938, 1.8132109836950503, -0.48196109541186505, -0.17269652364857951, 1.3800030332184154, -1.229523297754081, 2.20419937705563, -0.1937524179777495, -1.161730729295211, -0.09984848590221602, -3.3832203733154853, 0.10413654371574194, 0.043642478822188885, -0.71834260417202, -0.5064296883554308, 1.147808311764908, 0.28474945930817924, 0.8946469924819953, -0.6723508900661563, 0.25773956765724254, -0.5039684578487307, 0.3691101661965115, -1.459129294030294, 0.5321714058705559, 0.6668243195126138, -1.7384746256406478, 0.7723430803158939, 0.6824857114739032, 0.27964356069824325, 0.40706610891440315, 0.9681607441752027, 0.04021089599175954, 0.3555310327119612, -0.7282518027601843, 0.9008040259427349, 0.14184993386209688, -0.3715439930450324, -1.129539020761029, 0.36715232681615456, -0.563060382221079, -0.34394998913219893, 1.4045326774092672, -0.9817374418750098, -0.4056264397563056, 0.28538726814167165, 0.6573196689457046, 0.6152106062925833, -0.3673829115850066, 0.25029072333862007, -1.7824585756654117, 0.8193296690155378, 0.17959596392291177, 0.8773756824641165, 1.3132428986071087]\n"
     ]
    }
   ],
   "source": [
    "# say, I want 100 normally distributed values \n",
    "values = [random.gauss(0,1) for _ in range(100)]\n",
    "print(values)"
   ]
  },
  {
   "cell_type": "code",
   "execution_count": 61,
   "metadata": {},
   "outputs": [
    {
     "data": {
      "text/plain": [
       "(array([ 1.,  0.,  3.,  5., 12., 24., 25., 18., 10.,  2.]),\n",
       " array([-3.38322037, -2.8244784 , -2.26573642, -1.70699445, -1.14825247,\n",
       "        -0.5895105 , -0.03076852,  0.52797345,  1.08671543,  1.6454574 ,\n",
       "         2.20419938]),\n",
       " <BarContainer object of 10 artists>)"
      ]
     },
     "execution_count": 61,
     "metadata": {},
     "output_type": "execute_result"
    },
    {
     "data": {
      "image/png": "[encoded data removed]",
      "text/plain": [
       "<Figure size 640x480 with 1 Axes>"
      ]
     },
     "metadata": {},
     "output_type": "display_data"
    }
   ],
   "source": [
    "import matplotlib.pyplot as plt \n",
    "plt.hist(values)"
   ]
  },
  {
   "cell_type": "markdown",
   "metadata": {},
   "source": [
    "### **Summary Table of Key `random` Functions**\n",
    "| Function | Description | Example |\n",
    "|----------|------------|---------|\n",
    "| `random.random()` | Random float in `[0.0, 1.0)` | `random.random()` |\n",
    "| `random.uniform(a, b)` | Random float in `[a, b]` | `random.uniform(10, 20)` |\n",
    "| `random.randint(a, b)` | Random integer in `[a, b]` | `random.randint(1, 100)` |\n",
    "| `random.randrange(a, b, step)` | Random number in range | `random.randrange(1, 10, 2)` |\n",
    "| `random.choice(seq)` | Pick a random element | `random.choice(colors)` |\n",
    "| `random.choices(seq, k=n)` | Pick `n` elements (with replacement) | `random.choices(colors, k=3)` |\n",
    "| `random.sample(seq, k=n)` | Pick `n` elements (without replacement) | `random.sample(colors, k=2)` |\n",
    "| `random.shuffle(seq)` | Shuffle elements in a list | `random.shuffle(numbers)` |\n",
    "| `random.gauss(mu, sigma)` | Gaussian random number | `random.gauss(0, 1)` |\n"
   ]
  }
 ],
 "metadata": {
  "kernelspec": {
   "display_name": "Python 3",
   "language": "python",
   "name": "python3"
  },
  "language_info": {
   "codemirror_mode": {
    "name": "ipython",
    "version": 3
   },
   "file_extension": ".py",
   "mimetype": "text/x-python",
   "name": "python",
   "nbconvert_exporter": "python",
   "pygments_lexer": "ipython3",
   "version": "3.13.2"
  }
 },
 "nbformat": 4,
 "nbformat_minor": 2
}
